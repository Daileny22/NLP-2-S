{
 "cells": [
  {
   "cell_type": "markdown",
   "metadata": {},
   "source": [
    "# Repositorio clases NLP - 2020\n",
    "Daileny Dorado Delgado"
   ]
  },
  {
   "cell_type": "markdown",
   "metadata": {},
   "source": [
    "###  Taller 2\n",
    "\n",
    "Adquisión de textos desde diferentes tipos de archivos\n",
    "Web scraping\n",
    "\n",
    "https://github.com/Daileny22/NLP-2-S/blob/master/NLP%20Taller_2.ipynb"
   ]
  },
  {
   "cell_type": "markdown",
   "metadata": {},
   "source": [
    "### Taller 3\n",
    "\n",
    "Pre-Procesamiento de Textos\n",
    "\n",
    "Convertir a minúsculas\n",
    "\n",
    "Conservar sólo palabras\n",
    "\n",
    "Tokenizar\n",
    "\n",
    "https://github.com/Daileny22/NLP-2-S/blob/master/Taller%203%20NLP-%20Procesamiento%20Textos.ipynb"
   ]
  },
  {
   "cell_type": "markdown",
   "metadata": {},
   "source": [
    "### Taller 4\n",
    "\n",
    "Feature Engineering\n",
    "Crear una nueva columna con el texto en minúscula, sin caracteres especiales ni números y sin palabras vacias\n",
    "\n",
    "https://github.com/Daileny22/NLP-2-S/blob/master/Taller%204%20Feature%20Engineering.ipynb"
   ]
  },
  {
   "cell_type": "markdown",
   "metadata": {},
   "source": [
    "### Taller 5\n",
    "TF-IDF\n",
    "\n",
    "Buscar la similitud de las princesas que hacen parte del archivo analizado\n",
    "\n",
    "https://github.com/Daileny22/NLP-2-S/blob/master/Taller%205%20-%20TFIDF-%202.ipynb"
   ]
  },
  {
   "cell_type": "markdown",
   "metadata": {},
   "source": [
    "### Taller 6\n",
    "\n",
    "Word2Vec\n",
    "\n",
    "Se busca la frecuencia de las palabras que componen el corpus\n",
    "\n",
    "https://github.com/Daileny22/NLP-2-S/blob/master/Taller%206%20-%20Word2Vec%20(1).ipynb"
   ]
  },
  {
   "cell_type": "markdown",
   "metadata": {},
   "source": [
    "### Taller 7\n",
    "\n",
    "Clasificación y Agrupación\n",
    "\n",
    "Modelos utilizados K-meansy clasificación\n",
    "Se revisan los terminos mas utilizados en el corpus\n",
    "\n",
    "https://github.com/Daileny22/NLP-2-S/blob/master/Taller%207%20-%20ClassificationKMeans%20%20(1).ipynb"
   ]
  },
  {
   "cell_type": "markdown",
   "metadata": {},
   "source": [
    "### Taller 8\n",
    "\n",
    "Modelado de temas\n",
    "\n",
    "Ver palabras mas utilizadas en el corpus y la importancia que tienen en cada uno de los topics\n",
    "\n",
    "https://github.com/Daileny22/NLP-2-S/blob/master/Taller%208%20-%20Modelado%20de%20Temas.ipynb"
   ]
  },
  {
   "cell_type": "markdown",
   "metadata": {},
   "source": [
    "### Taller 9\n",
    "\n",
    "Nube de palabras\n",
    "\n",
    "Se toma una imagen cualquiera y se incluyen las palabras mas utilizadas en el corpues\n",
    "\n",
    "https://github.com/Daileny22/NLP-2-S/blob/master/Taller%209%20NLP.ipynb"
   ]
  },
  {
   "cell_type": "markdown",
   "metadata": {},
   "source": [
    "### Taller 10\n",
    "\n",
    "Se toman 500 tweets referentes al presidente Trump y se realizan visualizaciones\n",
    "\n",
    "https://github.com/Daileny22/NLP-2-S/blob/master/Taller10-NLP.ipynb\n"
   ]
  },
  {
   "cell_type": "markdown",
   "metadata": {},
   "source": [
    "###  Taller 11\n",
    "\n",
    "Análisis de sentimiento\n",
    "\n",
    "Con los 500 tweets recolectados se busca el mas positivo y el mas negativo\n",
    "\n",
    "\n",
    "https://github.com/Daileny22/NLP-2-S/blob/master/Taller%2011%20-%20Sentimiento.ipynb"
   ]
  },
  {
   "cell_type": "code",
   "execution_count": null,
   "metadata": {},
   "outputs": [],
   "source": []
  }
 ],
 "metadata": {
  "kernelspec": {
   "display_name": "Python 3",
   "language": "python",
   "name": "python3"
  },
  "language_info": {
   "codemirror_mode": {
    "name": "ipython",
    "version": 3
   },
   "file_extension": ".py",
   "mimetype": "text/x-python",
   "name": "python",
   "nbconvert_exporter": "python",
   "pygments_lexer": "ipython3",
   "version": "3.7.6"
  }
 },
 "nbformat": 4,
 "nbformat_minor": 4
}
