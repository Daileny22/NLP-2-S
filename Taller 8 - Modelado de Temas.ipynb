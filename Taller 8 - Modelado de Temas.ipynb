{
 "cells": [
  {
   "cell_type": "markdown",
   "metadata": {},
   "source": [
    "<img src='https://encrypted-tbn0.gstatic.com/images?q=tbn%3AANd9GcQ-VfNtOyJbsaxu43Kztf_cv1mgBG6ZIQZEVw&usqp=CAU'>\n",
    "\n",
    "# Procesamiento de Lenguage Natural\n",
    "\n",
    "## Taller #8: Modelado de temas\n",
    "`Fecha de entrega: 🎃 Octubre 31, 2020. (Antes del inicio de la próxima clase).`\n",
    "\n",
    "`Modo de entrega: Subir link de GitHub al aula virtual.`"
   ]
  },
  {
   "cell_type": "code",
   "execution_count": 48,
   "metadata": {},
   "outputs": [],
   "source": [
    "import re\n",
    "import pandas as pd \n",
    "from pprint import pprint\n",
    "\n",
    "from nltk.corpus import stopwords\n",
    "stopwords = stopwords.words('spanish')\n",
    "\n",
    "import pyLDAvis.gensim\n",
    "from gensim.models import LdaModel\n",
    "from gensim.corpora import Dictionary\n",
    "\n",
    "import warnings\n",
    "warnings.filterwarnings(\"ignore\", category=DeprecationWarning)"
   ]
  },
  {
   "cell_type": "code",
   "execution_count": 53,
   "metadata": {},
   "outputs": [
    {
     "name": "stdout",
     "output_type": "stream",
     "text": [
      "Requirement already satisfied: pyLDAvis in c:\\users\\toshiba\\anaconda3\\lib\\site-packages (2.1.2)\n",
      "Requirement already satisfied: numpy>=1.9.2 in c:\\users\\toshiba\\anaconda3\\lib\\site-packages (from pyLDAvis) (1.19.1)\n",
      "Requirement already satisfied: joblib>=0.8.4 in c:\\users\\toshiba\\anaconda3\\lib\\site-packages (from pyLDAvis) (0.14.1)\n",
      "Requirement already satisfied: scipy>=0.18.0 in c:\\users\\toshiba\\anaconda3\\lib\\site-packages (from pyLDAvis) (1.4.1)\n",
      "Requirement already satisfied: wheel>=0.23.0 in c:\\users\\toshiba\\anaconda3\\lib\\site-packages (from pyLDAvis) (0.34.2)\n",
      "Requirement already satisfied: pandas>=0.17.0 in c:\\users\\toshiba\\anaconda3\\lib\\site-packages (from pyLDAvis) (1.0.1)\n",
      "Requirement already satisfied: numexpr in c:\\users\\toshiba\\anaconda3\\lib\\site-packages (from pyLDAvis) (2.7.1)\n",
      "Requirement already satisfied: pytest in c:\\users\\toshiba\\anaconda3\\lib\\site-packages (from pyLDAvis) (5.3.5)\n",
      "Requirement already satisfied: future in c:\\users\\toshiba\\anaconda3\\lib\\site-packages (from pyLDAvis) (0.18.2)\n",
      "Requirement already satisfied: funcy in c:\\users\\toshiba\\anaconda3\\lib\\site-packages (from pyLDAvis) (1.15)\n",
      "Requirement already satisfied: jinja2>=2.7.2 in c:\\users\\toshiba\\anaconda3\\lib\\site-packages (from pyLDAvis) (2.11.1)\n",
      "Requirement already satisfied: pytz>=2017.2 in c:\\users\\toshiba\\anaconda3\\lib\\site-packages (from pandas>=0.17.0->pyLDAvis) (2019.3)\n",
      "Requirement already satisfied: python-dateutil>=2.6.1 in c:\\users\\toshiba\\anaconda3\\lib\\site-packages (from pandas>=0.17.0->pyLDAvis) (2.8.1)\n",
      "Requirement already satisfied: py>=1.5.0 in c:\\users\\toshiba\\anaconda3\\lib\\site-packages (from pytest->pyLDAvis) (1.8.1)\n",
      "Requirement already satisfied: packaging in c:\\users\\toshiba\\anaconda3\\lib\\site-packages (from pytest->pyLDAvis) (20.1)\n",
      "Requirement already satisfied: attrs>=17.4.0 in c:\\users\\toshiba\\anaconda3\\lib\\site-packages (from pytest->pyLDAvis) (19.3.0)\n",
      "Requirement already satisfied: more-itertools>=4.0.0 in c:\\users\\toshiba\\anaconda3\\lib\\site-packages (from pytest->pyLDAvis) (8.2.0)\n",
      "Requirement already satisfied: pluggy<1.0,>=0.12 in c:\\users\\toshiba\\anaconda3\\lib\\site-packages (from pytest->pyLDAvis) (0.13.1)\n",
      "Requirement already satisfied: wcwidth in c:\\users\\toshiba\\anaconda3\\lib\\site-packages (from pytest->pyLDAvis) (0.1.8)\n",
      "Requirement already satisfied: importlib-metadata>=0.12 in c:\\users\\toshiba\\anaconda3\\lib\\site-packages (from pytest->pyLDAvis) (1.5.0)\n",
      "Requirement already satisfied: atomicwrites>=1.0 in c:\\users\\toshiba\\anaconda3\\lib\\site-packages (from pytest->pyLDAvis) (1.3.0)\n",
      "Requirement already satisfied: colorama in c:\\users\\toshiba\\anaconda3\\lib\\site-packages (from pytest->pyLDAvis) (0.4.3)\n",
      "Requirement already satisfied: MarkupSafe>=0.23 in c:\\users\\toshiba\\anaconda3\\lib\\site-packages (from jinja2>=2.7.2->pyLDAvis) (1.1.1)\n",
      "Requirement already satisfied: six>=1.5 in c:\\users\\toshiba\\anaconda3\\lib\\site-packages (from python-dateutil>=2.6.1->pandas>=0.17.0->pyLDAvis) (1.14.0)\n",
      "Requirement already satisfied: pyparsing>=2.0.2 in c:\\users\\toshiba\\anaconda3\\lib\\site-packages (from packaging->pytest->pyLDAvis) (2.4.6)\n",
      "Requirement already satisfied: zipp>=0.5 in c:\\users\\toshiba\\anaconda3\\lib\\site-packages (from importlib-metadata>=0.12->pytest->pyLDAvis) (2.2.0)\n"
     ]
    }
   ],
   "source": [
    "!pip install pyLDAvis"
   ]
  },
  {
   "cell_type": "code",
   "execution_count": 58,
   "metadata": {},
   "outputs": [
    {
     "name": "stdout",
     "output_type": "stream",
     "text": [
      "Tenemos 1,000documentos.\n"
     ]
    },
    {
     "data": {
      "text/html": [
       "<div>\n",
       "<style scoped>\n",
       "    .dataframe tbody tr th:only-of-type {\n",
       "        vertical-align: middle;\n",
       "    }\n",
       "\n",
       "    .dataframe tbody tr th {\n",
       "        vertical-align: top;\n",
       "    }\n",
       "\n",
       "    .dataframe thead th {\n",
       "        text-align: right;\n",
       "    }\n",
       "</style>\n",
       "<table border=\"1\" class=\"dataframe\">\n",
       "  <thead>\n",
       "    <tr style=\"text-align: right;\">\n",
       "      <th></th>\n",
       "      <th>review_id</th>\n",
       "      <th>product_id</th>\n",
       "      <th>reviewer_id</th>\n",
       "      <th>stars</th>\n",
       "      <th>review_body</th>\n",
       "      <th>review_title</th>\n",
       "      <th>language</th>\n",
       "      <th>product_category</th>\n",
       "    </tr>\n",
       "  </thead>\n",
       "  <tbody>\n",
       "    <tr>\n",
       "      <th>0</th>\n",
       "      <td>es_0825565</td>\n",
       "      <td>product_es_0370490</td>\n",
       "      <td>reviewer_es_0174781</td>\n",
       "      <td>3</td>\n",
       "      <td>Buen. Buena calidad, y buena presentación.</td>\n",
       "      <td>Contenta</td>\n",
       "      <td>es</td>\n",
       "      <td>jewelry</td>\n",
       "    </tr>\n",
       "    <tr>\n",
       "      <th>1</th>\n",
       "      <td>es_0227934</td>\n",
       "      <td>product_es_0354224</td>\n",
       "      <td>reviewer_es_0411613</td>\n",
       "      <td>3</td>\n",
       "      <td>Un producto a perfecto, para salir de casa con...</td>\n",
       "      <td>Versatilidad</td>\n",
       "      <td>es</td>\n",
       "      <td>video_games</td>\n",
       "    </tr>\n",
       "    <tr>\n",
       "      <th>2</th>\n",
       "      <td>es_0468601</td>\n",
       "      <td>product_es_0665460</td>\n",
       "      <td>reviewer_es_0348315</td>\n",
       "      <td>1</td>\n",
       "      <td>No funciona con Nintendo Switch. No hay forma ...</td>\n",
       "      <td>Decepción absoluta</td>\n",
       "      <td>es</td>\n",
       "      <td>video_games</td>\n",
       "    </tr>\n",
       "    <tr>\n",
       "      <th>3</th>\n",
       "      <td>es_0814494</td>\n",
       "      <td>product_es_0692692</td>\n",
       "      <td>reviewer_es_0951508</td>\n",
       "      <td>5</td>\n",
       "      <td>Recomendado, los utilizo para pc y no me dan n...</td>\n",
       "      <td>Auriculares Pecham ps4</td>\n",
       "      <td>es</td>\n",
       "      <td>video_games</td>\n",
       "    </tr>\n",
       "    <tr>\n",
       "      <th>4</th>\n",
       "      <td>es_0206329</td>\n",
       "      <td>product_es_0728826</td>\n",
       "      <td>reviewer_es_0493255</td>\n",
       "      <td>4</td>\n",
       "      <td>El cable funciona bien podria ser un poco mas ...</td>\n",
       "      <td>Perfecto</td>\n",
       "      <td>es</td>\n",
       "      <td>video_games</td>\n",
       "    </tr>\n",
       "  </tbody>\n",
       "</table>\n",
       "</div>"
      ],
      "text/plain": [
       "    review_id          product_id          reviewer_id  stars  \\\n",
       "0  es_0825565  product_es_0370490  reviewer_es_0174781      3   \n",
       "1  es_0227934  product_es_0354224  reviewer_es_0411613      3   \n",
       "2  es_0468601  product_es_0665460  reviewer_es_0348315      1   \n",
       "3  es_0814494  product_es_0692692  reviewer_es_0951508      5   \n",
       "4  es_0206329  product_es_0728826  reviewer_es_0493255      4   \n",
       "\n",
       "                                         review_body            review_title  \\\n",
       "0         Buen. Buena calidad, y buena presentación.                Contenta   \n",
       "1  Un producto a perfecto, para salir de casa con...            Versatilidad   \n",
       "2  No funciona con Nintendo Switch. No hay forma ...      Decepción absoluta   \n",
       "3  Recomendado, los utilizo para pc y no me dan n...  Auriculares Pecham ps4   \n",
       "4  El cable funciona bien podria ser un poco mas ...                Perfecto   \n",
       "\n",
       "  language product_category  \n",
       "0       es          jewelry  \n",
       "1       es      video_games  \n",
       "2       es      video_games  \n",
       "3       es      video_games  \n",
       "4       es      video_games  "
      ]
     },
     "execution_count": 58,
     "metadata": {},
     "output_type": "execute_result"
    }
   ],
   "source": [
    "# Cargar datos\n",
    "data = pd.read_csv('D:/NLP/Clase10-24-10-2020/reviews_vidjew_es.csv')\n",
    "print(f\"Tenemos {data.shape[0]:,d}documentos.\")\n",
    "data.head()"
   ]
  },
  {
   "cell_type": "markdown",
   "metadata": {},
   "source": [
    "###  `[12 pts]` Punto 1: Hacer pre-procesamiento del texto"
   ]
  },
  {
   "cell_type": "code",
   "execution_count": 59,
   "metadata": {},
   "outputs": [],
   "source": [
    "import re\n",
    "from nltk.corpus import stopwords\n",
    "from sklearn.feature_extraction.text import TfidfVectorizer\n",
    "stopwords_sp = stopwords.words('spanish')"
   ]
  },
  {
   "cell_type": "code",
   "execution_count": 60,
   "metadata": {},
   "outputs": [],
   "source": [
    "def pre_procesado(texto):\n",
    "    texto = texto.lower()\n",
    "    texto = re.sub(r\"[\\W\\d_]+\", \" \", texto)\n",
    "    texto = [palabra for palabra in texto.split() if palabra not in stopwords_sp]\n",
    "    return texto"
   ]
  },
  {
   "cell_type": "code",
   "execution_count": 63,
   "metadata": {},
   "outputs": [
    {
     "data": {
      "text/html": [
       "<div>\n",
       "<style scoped>\n",
       "    .dataframe tbody tr th:only-of-type {\n",
       "        vertical-align: middle;\n",
       "    }\n",
       "\n",
       "    .dataframe tbody tr th {\n",
       "        vertical-align: top;\n",
       "    }\n",
       "\n",
       "    .dataframe thead th {\n",
       "        text-align: right;\n",
       "    }\n",
       "</style>\n",
       "<table border=\"1\" class=\"dataframe\">\n",
       "  <thead>\n",
       "    <tr style=\"text-align: right;\">\n",
       "      <th></th>\n",
       "      <th>review_id</th>\n",
       "      <th>product_id</th>\n",
       "      <th>reviewer_id</th>\n",
       "      <th>stars</th>\n",
       "      <th>review_body</th>\n",
       "      <th>review_title</th>\n",
       "      <th>language</th>\n",
       "      <th>product_category</th>\n",
       "      <th>pp</th>\n",
       "      <th>PP</th>\n",
       "    </tr>\n",
       "  </thead>\n",
       "  <tbody>\n",
       "    <tr>\n",
       "      <th>0</th>\n",
       "      <td>es_0825565</td>\n",
       "      <td>product_es_0370490</td>\n",
       "      <td>reviewer_es_0174781</td>\n",
       "      <td>3</td>\n",
       "      <td>Buen. Buena calidad, y buena presentación.</td>\n",
       "      <td>Contenta</td>\n",
       "      <td>es</td>\n",
       "      <td>jewelry</td>\n",
       "      <td>[buen, buena, calidad, buena, presentación]</td>\n",
       "      <td>[buen, buena, calidad, buena, presentación]</td>\n",
       "    </tr>\n",
       "    <tr>\n",
       "      <th>1</th>\n",
       "      <td>es_0227934</td>\n",
       "      <td>product_es_0354224</td>\n",
       "      <td>reviewer_es_0411613</td>\n",
       "      <td>3</td>\n",
       "      <td>Un producto a perfecto, para salir de casa con...</td>\n",
       "      <td>Versatilidad</td>\n",
       "      <td>es</td>\n",
       "      <td>video_games</td>\n",
       "      <td>[producto, perfecto, salir, casa, nintendo, sw...</td>\n",
       "      <td>[producto, perfecto, salir, casa, nintendo, sw...</td>\n",
       "    </tr>\n",
       "    <tr>\n",
       "      <th>2</th>\n",
       "      <td>es_0468601</td>\n",
       "      <td>product_es_0665460</td>\n",
       "      <td>reviewer_es_0348315</td>\n",
       "      <td>1</td>\n",
       "      <td>No funciona con Nintendo Switch. No hay forma ...</td>\n",
       "      <td>Decepción absoluta</td>\n",
       "      <td>es</td>\n",
       "      <td>video_games</td>\n",
       "      <td>[funciona, nintendo, switch, forma, emparejarl...</td>\n",
       "      <td>[funciona, nintendo, switch, forma, emparejarl...</td>\n",
       "    </tr>\n",
       "    <tr>\n",
       "      <th>3</th>\n",
       "      <td>es_0814494</td>\n",
       "      <td>product_es_0692692</td>\n",
       "      <td>reviewer_es_0951508</td>\n",
       "      <td>5</td>\n",
       "      <td>Recomendado, los utilizo para pc y no me dan n...</td>\n",
       "      <td>Auriculares Pecham ps4</td>\n",
       "      <td>es</td>\n",
       "      <td>video_games</td>\n",
       "      <td>[recomendado, utilizo, pc, dan, ningún, proble...</td>\n",
       "      <td>[recomendado, utilizo, pc, dan, ningún, proble...</td>\n",
       "    </tr>\n",
       "    <tr>\n",
       "      <th>4</th>\n",
       "      <td>es_0206329</td>\n",
       "      <td>product_es_0728826</td>\n",
       "      <td>reviewer_es_0493255</td>\n",
       "      <td>4</td>\n",
       "      <td>El cable funciona bien podria ser un poco mas ...</td>\n",
       "      <td>Perfecto</td>\n",
       "      <td>es</td>\n",
       "      <td>video_games</td>\n",
       "      <td>[cable, funciona, bien, podria, ser, mas, larg...</td>\n",
       "      <td>[cable, funciona, bien, podria, ser, mas, larg...</td>\n",
       "    </tr>\n",
       "  </tbody>\n",
       "</table>\n",
       "</div>"
      ],
      "text/plain": [
       "    review_id          product_id          reviewer_id  stars  \\\n",
       "0  es_0825565  product_es_0370490  reviewer_es_0174781      3   \n",
       "1  es_0227934  product_es_0354224  reviewer_es_0411613      3   \n",
       "2  es_0468601  product_es_0665460  reviewer_es_0348315      1   \n",
       "3  es_0814494  product_es_0692692  reviewer_es_0951508      5   \n",
       "4  es_0206329  product_es_0728826  reviewer_es_0493255      4   \n",
       "\n",
       "                                         review_body            review_title  \\\n",
       "0         Buen. Buena calidad, y buena presentación.                Contenta   \n",
       "1  Un producto a perfecto, para salir de casa con...            Versatilidad   \n",
       "2  No funciona con Nintendo Switch. No hay forma ...      Decepción absoluta   \n",
       "3  Recomendado, los utilizo para pc y no me dan n...  Auriculares Pecham ps4   \n",
       "4  El cable funciona bien podria ser un poco mas ...                Perfecto   \n",
       "\n",
       "  language product_category  \\\n",
       "0       es          jewelry   \n",
       "1       es      video_games   \n",
       "2       es      video_games   \n",
       "3       es      video_games   \n",
       "4       es      video_games   \n",
       "\n",
       "                                                  pp  \\\n",
       "0        [buen, buena, calidad, buena, presentación]   \n",
       "1  [producto, perfecto, salir, casa, nintendo, sw...   \n",
       "2  [funciona, nintendo, switch, forma, emparejarl...   \n",
       "3  [recomendado, utilizo, pc, dan, ningún, proble...   \n",
       "4  [cable, funciona, bien, podria, ser, mas, larg...   \n",
       "\n",
       "                                                  PP  \n",
       "0        [buen, buena, calidad, buena, presentación]  \n",
       "1  [producto, perfecto, salir, casa, nintendo, sw...  \n",
       "2  [funciona, nintendo, switch, forma, emparejarl...  \n",
       "3  [recomendado, utilizo, pc, dan, ningún, proble...  \n",
       "4  [cable, funciona, bien, podria, ser, mas, larg...  "
      ]
     },
     "execution_count": 63,
     "metadata": {},
     "output_type": "execute_result"
    }
   ],
   "source": [
    "data['PP'] = data['review_body'].apply(lambda texto: pre_procesado(texto))\n",
    "\n",
    "data.head()"
   ]
  },
  {
   "cell_type": "markdown",
   "metadata": {},
   "source": [
    "###  `[13 pts]` Punto 2: Modelo de LDA"
   ]
  },
  {
   "cell_type": "code",
   "execution_count": 64,
   "metadata": {},
   "outputs": [],
   "source": [
    "import pyLDAvis.gensim\n",
    "from gensim.models import LdaModel\n",
    "from gensim.corpora import Dictionary\n",
    "from pprint import pprint"
   ]
  },
  {
   "cell_type": "code",
   "execution_count": 79,
   "metadata": {},
   "outputs": [],
   "source": [
    "# Crear una representación de los documentos en forma de diccionario\n",
    "dictionary = Dictionary(data['PP'].values)\n",
    "\n",
    "# Filtrar palabras muy frecuentes o infrecuentes\n",
    "\n",
    "dictionary.filter_extremes(no_below=5, no_above=0.5)\n",
    " \n",
    "corpus = [dictionary.doc2bow(text) for text in data['PP'].values]\n",
    "\n",
    "#Train the topic model\n",
    "\n",
    "model = LdaModel(corpus=corpus, id2word=dictionary, num_topics=7, passes=10)\n",
    "\n",
    "dictionary = Dictionary(data['PP'].values)"
   ]
  },
  {
   "cell_type": "code",
   "execution_count": 80,
   "metadata": {},
   "outputs": [
    {
     "data": {
      "text/plain": [
       "[(0,\n",
       "  '0.047*\"bien\" + 0.031*\"pendientes\" + 0.021*\"llegado\" + 0.018*\"producto\" + 0.018*\"grandes\" + 0.017*\"pequeños\" + 0.015*\"recibido\" + 0.014*\"si\" + 0.014*\"plata\" + 0.014*\"bonitos\"'),\n",
       " (1,\n",
       "  '0.023*\"bien\" + 0.022*\"producto\" + 0.021*\"calidad\" + 0.019*\"caja\" + 0.017*\"bastante\" + 0.015*\"juego\" + 0.015*\"mal\" + 0.015*\"mas\" + 0.014*\"verdad\" + 0.014*\"buena\"'),\n",
       " (2,\n",
       "  '0.048*\"juego\" + 0.023*\"bien\" + 0.022*\"pedido\" + 0.019*\"día\" + 0.019*\"amazon\" + 0.017*\"problema\" + 0.016*\"si\" + 0.013*\"ahora\" + 0.013*\"así\" + 0.012*\"jugar\"'),\n",
       " (3,\n",
       "  '0.042*\"buen\" + 0.033*\"perfecto\" + 0.032*\"producto\" + 0.021*\"precio\" + 0.018*\"si\" + 0.018*\"llegó\" + 0.015*\"bien\" + 0.015*\"juego\" + 0.013*\"correcto\" + 0.013*\"tiempo\"'),\n",
       " (4,\n",
       "  '0.032*\"bien\" + 0.028*\"bonito\" + 0.019*\"calidad\" + 0.019*\"si\" + 0.018*\"foto\" + 0.016*\"cadena\" + 0.015*\"colgante\" + 0.014*\"pequeño\" + 0.014*\"queda\" + 0.013*\"juego\"'),\n",
       " (5,\n",
       "  '0.067*\"calidad\" + 0.048*\"precio\" + 0.029*\"buena\" + 0.023*\"bien\" + 0.021*\"puede\" + 0.018*\"ps\" + 0.017*\"mando\" + 0.014*\"pedir\" + 0.014*\"original\" + 0.014*\"consola\"'),\n",
       " (6,\n",
       "  '0.030*\"regalo\" + 0.025*\"bonita\" + 0.020*\"producto\" + 0.018*\"juego\" + 0.016*\"encantado\" + 0.015*\"pone\" + 0.015*\"pulsera\" + 0.015*\"llegó\" + 0.014*\"nunca\" + 0.013*\"jugar\"')]"
      ]
     },
     "execution_count": 80,
     "metadata": {},
     "output_type": "execute_result"
    }
   ],
   "source": [
    "# Paso 4: Resultados\n",
    "\n",
    "model.print_topics(num_words=10)"
   ]
  },
  {
   "cell_type": "markdown",
   "metadata": {},
   "source": [
    "###  `[25 pts]` Punto 3: Visualización de LDA"
   ]
  },
  {
   "cell_type": "code",
   "execution_count": 81,
   "metadata": {},
   "outputs": [],
   "source": [
    "import pyLDAvis.gensim"
   ]
  },
  {
   "cell_type": "code",
   "execution_count": 82,
   "metadata": {},
   "outputs": [
    {
     "ename": "IndexError",
     "evalue": "index 505 is out of bounds for axis 1 with size 505",
     "output_type": "error",
     "traceback": [
      "\u001b[1;31m---------------------------------------------------------------------------\u001b[0m",
      "\u001b[1;31mIndexError\u001b[0m                                Traceback (most recent call last)",
      "\u001b[1;32m<ipython-input-82-d7d8497b4b0b>\u001b[0m in \u001b[0;36m<module>\u001b[1;34m\u001b[0m\n\u001b[1;32m----> 1\u001b[1;33m \u001b[0mlda_display\u001b[0m \u001b[1;33m=\u001b[0m \u001b[0mpyLDAvis\u001b[0m\u001b[1;33m.\u001b[0m\u001b[0mgensim\u001b[0m\u001b[1;33m.\u001b[0m\u001b[0mprepare\u001b[0m\u001b[1;33m(\u001b[0m\u001b[0mmodel\u001b[0m\u001b[1;33m,\u001b[0m \u001b[0mcorpus\u001b[0m\u001b[1;33m,\u001b[0m \u001b[0mdictionary\u001b[0m\u001b[1;33m,\u001b[0m \u001b[0msort_topics\u001b[0m\u001b[1;33m=\u001b[0m\u001b[1;32mTrue\u001b[0m\u001b[1;33m)\u001b[0m\u001b[1;33m\u001b[0m\u001b[1;33m\u001b[0m\u001b[0m\n\u001b[0m\u001b[0;32m      2\u001b[0m \u001b[0mpyLDAvis\u001b[0m\u001b[1;33m.\u001b[0m\u001b[0mdisplay\u001b[0m\u001b[1;33m(\u001b[0m\u001b[0mlda_display\u001b[0m\u001b[1;33m)\u001b[0m\u001b[1;33m\u001b[0m\u001b[1;33m\u001b[0m\u001b[0m\n",
      "\u001b[1;32m~\\anaconda3\\lib\\site-packages\\pyLDAvis\\gensim.py\u001b[0m in \u001b[0;36mprepare\u001b[1;34m(topic_model, corpus, dictionary, doc_topic_dist, **kwargs)\u001b[0m\n\u001b[0;32m    116\u001b[0m     \u001b[0mSee\u001b[0m\u001b[0;31m \u001b[0m\u001b[0;31m`\u001b[0m\u001b[0mpyLDAvis\u001b[0m\u001b[1;33m.\u001b[0m\u001b[0mprepare\u001b[0m\u001b[0;31m`\u001b[0m \u001b[1;32mfor\u001b[0m \u001b[1;33m**\u001b[0m\u001b[0mkwargs\u001b[0m\u001b[1;33m.\u001b[0m\u001b[1;33m\u001b[0m\u001b[1;33m\u001b[0m\u001b[0m\n\u001b[0;32m    117\u001b[0m     \"\"\"\n\u001b[1;32m--> 118\u001b[1;33m     \u001b[0mopts\u001b[0m \u001b[1;33m=\u001b[0m \u001b[0mfp\u001b[0m\u001b[1;33m.\u001b[0m\u001b[0mmerge\u001b[0m\u001b[1;33m(\u001b[0m\u001b[0m_extract_data\u001b[0m\u001b[1;33m(\u001b[0m\u001b[0mtopic_model\u001b[0m\u001b[1;33m,\u001b[0m \u001b[0mcorpus\u001b[0m\u001b[1;33m,\u001b[0m \u001b[0mdictionary\u001b[0m\u001b[1;33m,\u001b[0m \u001b[0mdoc_topic_dist\u001b[0m\u001b[1;33m)\u001b[0m\u001b[1;33m,\u001b[0m \u001b[0mkwargs\u001b[0m\u001b[1;33m)\u001b[0m\u001b[1;33m\u001b[0m\u001b[1;33m\u001b[0m\u001b[0m\n\u001b[0m\u001b[0;32m    119\u001b[0m     \u001b[1;32mreturn\u001b[0m \u001b[0mvis_prepare\u001b[0m\u001b[1;33m(\u001b[0m\u001b[1;33m**\u001b[0m\u001b[0mopts\u001b[0m\u001b[1;33m)\u001b[0m\u001b[1;33m\u001b[0m\u001b[1;33m\u001b[0m\u001b[0m\n",
      "\u001b[1;32m~\\anaconda3\\lib\\site-packages\\pyLDAvis\\gensim.py\u001b[0m in \u001b[0;36m_extract_data\u001b[1;34m(topic_model, corpus, dictionary, doc_topic_dists)\u001b[0m\n\u001b[0;32m     64\u001b[0m        \u001b[0mtopic\u001b[0m \u001b[1;33m=\u001b[0m \u001b[0mtopic_model\u001b[0m\u001b[1;33m.\u001b[0m\u001b[0mstate\u001b[0m\u001b[1;33m.\u001b[0m\u001b[0mget_lambda\u001b[0m\u001b[1;33m(\u001b[0m\u001b[1;33m)\u001b[0m\u001b[1;33m\u001b[0m\u001b[1;33m\u001b[0m\u001b[0m\n\u001b[0;32m     65\u001b[0m    \u001b[0mtopic\u001b[0m \u001b[1;33m=\u001b[0m \u001b[0mtopic\u001b[0m \u001b[1;33m/\u001b[0m \u001b[0mtopic\u001b[0m\u001b[1;33m.\u001b[0m\u001b[0msum\u001b[0m\u001b[1;33m(\u001b[0m\u001b[0maxis\u001b[0m\u001b[1;33m=\u001b[0m\u001b[1;36m1\u001b[0m\u001b[1;33m)\u001b[0m\u001b[1;33m[\u001b[0m\u001b[1;33m:\u001b[0m\u001b[1;33m,\u001b[0m \u001b[1;32mNone\u001b[0m\u001b[1;33m]\u001b[0m\u001b[1;33m\u001b[0m\u001b[1;33m\u001b[0m\u001b[0m\n\u001b[1;32m---> 66\u001b[1;33m    \u001b[0mtopic_term_dists\u001b[0m \u001b[1;33m=\u001b[0m \u001b[0mtopic\u001b[0m\u001b[1;33m[\u001b[0m\u001b[1;33m:\u001b[0m\u001b[1;33m,\u001b[0m \u001b[0mfnames_argsort\u001b[0m\u001b[1;33m]\u001b[0m\u001b[1;33m\u001b[0m\u001b[1;33m\u001b[0m\u001b[0m\n\u001b[0m\u001b[0;32m     67\u001b[0m \u001b[1;33m\u001b[0m\u001b[0m\n\u001b[0;32m     68\u001b[0m    \u001b[1;32massert\u001b[0m \u001b[0mtopic_term_dists\u001b[0m\u001b[1;33m.\u001b[0m\u001b[0mshape\u001b[0m\u001b[1;33m[\u001b[0m\u001b[1;36m0\u001b[0m\u001b[1;33m]\u001b[0m \u001b[1;33m==\u001b[0m \u001b[0mdoc_topic_dists\u001b[0m\u001b[1;33m.\u001b[0m\u001b[0mshape\u001b[0m\u001b[1;33m[\u001b[0m\u001b[1;36m1\u001b[0m\u001b[1;33m]\u001b[0m\u001b[1;33m\u001b[0m\u001b[1;33m\u001b[0m\u001b[0m\n",
      "\u001b[1;31mIndexError\u001b[0m: index 505 is out of bounds for axis 1 with size 505"
     ]
    }
   ],
   "source": [
    "lda_display = pyLDAvis.gensim.prepare(model, corpus, dictionary, sort_topics=True)\n",
    "pyLDAvis.display(lda_display)"
   ]
  },
  {
   "cell_type": "code",
   "execution_count": null,
   "metadata": {},
   "outputs": [],
   "source": []
  }
 ],
 "metadata": {
  "kernelspec": {
   "display_name": "Python 3",
   "language": "python",
   "name": "python3"
  },
  "language_info": {
   "codemirror_mode": {
    "name": "ipython",
    "version": 3
   },
   "file_extension": ".py",
   "mimetype": "text/x-python",
   "name": "python",
   "nbconvert_exporter": "python",
   "pygments_lexer": "ipython3",
   "version": "3.7.6"
  }
 },
 "nbformat": 4,
 "nbformat_minor": 2
}
