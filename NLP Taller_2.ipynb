{
 "cells": [
  {
   "cell_type": "markdown",
   "metadata": {},
   "source": [
    "# Procesamiento de Lenguage Natural\n",
    "Taller #2: Adquisición de textos\n",
    "Fecha de entrega: Agosto 29, 2020. (Antes del inicio de la próxima clase).\n",
    "\n",
    "Punto 1:\n",
    "Descomprimir el archivo .zip de los poemas\n",
    "Leer cada uno de sus archivos\n",
    "Responder: ¿Cuál archivo tiene el mayor número de palabras?\n",
    "    \n",
    "Punto 2:\n",
    "Hacer Web Scraping de 10 biografías en Wikipedia (en búcle)\n",
    "Obtener el encabezado de cada biografía\n",
    "Obtener todos los contenidos y etiquetas de título asociados a los links del primer párrafo"
   ]
  },
  {
   "cell_type": "markdown",
   "metadata": {},
   "source": [
    "# PUNTO 1"
   ]
  },
  {
   "cell_type": "code",
   "execution_count": 2,
   "metadata": {},
   "outputs": [],
   "source": [
    "import os\n",
    "from zipfile import ZipFile "
   ]
  },
  {
   "cell_type": "code",
   "execution_count": 5,
   "metadata": {},
   "outputs": [
    {
     "name": "stdout",
     "output_type": "stream",
     "text": [
      "archivos/poemas.zip\n"
     ]
    }
   ],
   "source": [
    "direccion = 'archivos/poemas.zip'\n",
    "print(direccion)"
   ]
  },
  {
   "cell_type": "code",
   "execution_count": 6,
   "metadata": {},
   "outputs": [],
   "source": [
    "with ZipFile(direccion) as archivo: \n",
    "    archivo.extractall('archivos/') "
   ]
  },
  {
   "cell_type": "code",
   "execution_count": 9,
   "metadata": {},
   "outputs": [
    {
     "name": "stdout",
     "output_type": "stream",
     "text": [
      "('archivos/poemas', [], ['A un general (Julio Cortázar).txt', 'Aquí (Octavio Paz).txt', 'Síndrome (Mario Benedetti).txt'])\n"
     ]
    }
   ],
   "source": [
    "for archivo in os.walk('archivos/poemas'):\n",
    "    print(archivo)"
   ]
  },
  {
   "cell_type": "code",
   "execution_count": 10,
   "metadata": {},
   "outputs": [
    {
     "name": "stdout",
     "output_type": "stream",
     "text": [
      "A un general (Julio Cortázar).txt\n",
      "Aquí (Octavio Paz).txt\n",
      "Síndrome (Mario Benedetti).txt\n"
     ]
    }
   ],
   "source": [
    "for raiz, dirs, archivos in os.walk('archivos/poemas'):\n",
    "        for archivo in archivos:\n",
    "            print(archivo)"
   ]
  },
  {
   "cell_type": "markdown",
   "metadata": {},
   "source": [
    "### B)"
   ]
  },
  {
   "cell_type": "code",
   "execution_count": 23,
   "metadata": {},
   "outputs": [
    {
     "name": "stdout",
     "output_type": "stream",
     "text": [
      "RegiÃ³n de manos sucias de pinceles sin pelo\n",
      "\n",
      "de niÃ±os boca abajo de cepillos de dientes\n",
      "\n",
      "Zona donde la rata se ennoblece\n",
      "\n",
      "y hay banderas innÃºmeras y cantan himnos\n",
      "\n",
      "y alguien te prende, hijo de puta,\n",
      "\n",
      "una medalla sobre el pecho\n",
      "\n",
      "Y te pudres lo mismo.\n"
     ]
    }
   ],
   "source": [
    "with open('archivos/poemas/A un general (Julio Cortázar).txt') as archivo: \n",
    "    poema1 = archivo.read()\n",
    "print(poema1)"
   ]
  },
  {
   "cell_type": "code",
   "execution_count": 22,
   "metadata": {},
   "outputs": [
    {
     "name": "stdout",
     "output_type": "stream",
     "text": [
      "Mis pasos en esta calle\n",
      "\n",
      "Resuenan\n",
      "\n",
      "En otra calle\n",
      "\n",
      "Donde\n",
      "\n",
      "Oigo mis pasos\n",
      "\n",
      "Pasar en esta calle\n",
      "\n",
      "Donde\n",
      "\n",
      "SÃ³lo es real la niebla.\n"
     ]
    }
   ],
   "source": [
    "with open('archivos/poemas/Aquí (Octavio Paz).txt') as archivo: \n",
    "    poema2 = archivo.read()\n",
    "print(poema2)"
   ]
  },
  {
   "cell_type": "code",
   "execution_count": 24,
   "metadata": {},
   "outputs": [
    {
     "name": "stdout",
     "output_type": "stream",
     "text": [
      "TodavÃ­a tengo casi todos mis dientes\n",
      "\n",
      "casi todos mis cabellos y poquÃ­simas canas\n",
      "\n",
      "puedo hacer y deshacer el amor\n",
      "\n",
      "trepar una escalera de dos en dos\n",
      "\n",
      "y correr cuarenta metros detrÃ¡s del Ã³mnibus\n",
      "\n",
      "o sea que no deberÃ­a sentirme viejo\n",
      "\n",
      "pero el grave problema es que antes\n",
      "\n",
      "no me fijaba en estos detalles.\n"
     ]
    }
   ],
   "source": [
    "with open('archivos/poemas/Síndrome (Mario Benedetti).txt') as archivo: \n",
    "    poema3 = archivo.read()\n",
    "print(poema3)"
   ]
  },
  {
   "cell_type": "markdown",
   "metadata": {},
   "source": [
    "## ### C) ¿Cuál archivo tiene el mayor número de palabras?"
   ]
  },
  {
   "cell_type": "code",
   "execution_count": 27,
   "metadata": {},
   "outputs": [
    {
     "data": {
      "text/plain": [
       "46"
      ]
     },
     "execution_count": 27,
     "metadata": {},
     "output_type": "execute_result"
    }
   ],
   "source": [
    "palabras = poema1.split()\n",
    "\n",
    "numerosPalabras = []\n",
    "for w in palabras:\n",
    "    numerosPalabras.append(numerosPalabras.count(w))\n",
    "len(numerosPalabras)"
   ]
  },
  {
   "cell_type": "code",
   "execution_count": 28,
   "metadata": {},
   "outputs": [
    {
     "data": {
      "text/plain": [
       "23"
      ]
     },
     "execution_count": 28,
     "metadata": {},
     "output_type": "execute_result"
    }
   ],
   "source": [
    "palabras = poema2.split()\n",
    "\n",
    "numerosPalabras = []\n",
    "for w in palabras:\n",
    "    numerosPalabras.append(numerosPalabras.count(w))\n",
    "len(numerosPalabras)"
   ]
  },
  {
   "cell_type": "code",
   "execution_count": 29,
   "metadata": {},
   "outputs": [
    {
     "data": {
      "text/plain": [
       "53"
      ]
     },
     "execution_count": 29,
     "metadata": {},
     "output_type": "execute_result"
    }
   ],
   "source": [
    "palabras = poema3.split()\n",
    "\n",
    "numerosPalabras = []\n",
    "for w in palabras:\n",
    "    numerosPalabras.append(numerosPalabras.count(w))\n",
    "len(numerosPalabras)"
   ]
  },
  {
   "cell_type": "code",
   "execution_count": null,
   "metadata": {},
   "outputs": [],
   "source": [
    "RTA// "
   ]
  },
  {
   "cell_type": "code",
   "execution_count": null,
   "metadata": {},
   "outputs": [],
   "source": []
  },
  {
   "cell_type": "code",
   "execution_count": null,
   "metadata": {},
   "outputs": [],
   "source": []
  },
  {
   "cell_type": "markdown",
   "metadata": {},
   "source": [
    "# PUNTO 2"
   ]
  },
  {
   "cell_type": "code",
   "execution_count": 45,
   "metadata": {},
   "outputs": [],
   "source": [
    "#importar libreria Beautifil Soup\n",
    "import bs4 as bs"
   ]
  },
  {
   "cell_type": "code",
   "execution_count": 44,
   "metadata": {},
   "outputs": [],
   "source": [
    "#####importar librerias \n",
    "import urllib.request"
   ]
  },
  {
   "cell_type": "markdown",
   "metadata": {},
   "source": [
    "## Web Scraping para una sola página"
   ]
  },
  {
   "cell_type": "code",
   "execution_count": 141,
   "metadata": {},
   "outputs": [],
   "source": [
    "#Punto 2.1 Mahatma Gandhi"
   ]
  },
  {
   "cell_type": "code",
   "execution_count": 46,
   "metadata": {},
   "outputs": [],
   "source": [
    "link1 = \"https://es.wikipedia.org/wiki/Mahatma_Gandhi\""
   ]
  },
  {
   "cell_type": "code",
   "execution_count": 47,
   "metadata": {},
   "outputs": [],
   "source": [
    "# Descargar pagina web en Python\n",
    "request = urllib.request.urlopen(link1) #para abrir el link\n",
    "Gandhi = request.read() # para leer\n",
    "request.close() #cerrar el requerimiento"
   ]
  },
  {
   "cell_type": "code",
   "execution_count": 48,
   "metadata": {},
   "outputs": [],
   "source": [
    "Gandhi_1 = bs.BeautifulSoup(Gandhi,'html.parser') #procesar la pagina web porque se descargo como binario (.parser)"
   ]
  },
  {
   "cell_type": "code",
   "execution_count": 145,
   "metadata": {
    "scrolled": false
   },
   "outputs": [],
   "source": [
    "#ver estructura gerarquica\n",
    "#print(Gandhi_1.prettify())"
   ]
  },
  {
   "cell_type": "code",
   "execution_count": 49,
   "metadata": {
    "scrolled": true
   },
   "outputs": [
    {
     "data": {
      "text/plain": [
       "'Mahatma Gandhi'"
      ]
     },
     "execution_count": 49,
     "metadata": {},
     "output_type": "execute_result"
    }
   ],
   "source": [
    "Gandhi_1 = bs.BeautifulSoup(Gandhi, 'html.parser')\n",
    "#Gandhi_1.find('title') # para ver el titulo , como se llama la pagina \n",
    "Gandhi_1.find('h1',attrs={'class':'firstHeading'}) # para hacer busqueda por atributo (algo que esta antes de=)\n",
    "Gandhi_1.h1.get_text()# para ver el titulo de la busqueda"
   ]
  },
  {
   "cell_type": "code",
   "execution_count": 50,
   "metadata": {},
   "outputs": [
    {
     "data": {
      "text/plain": [
       "' Mohandas Karamchand Gandhi (Porbandar, India británica; 2 de octubre de 1869-Nueva Delhi, Unión de la India; 30 de enero de 1948) fue el dirigente más destacado del Movimiento de independencia de la India contra el Raj británico, para lo que practicó la desobediencia civil no violenta, además de pacifista, político, pensador y abogado hinduista indio. Recibió de Rabindranath Tagore el nombre honorífico de Mahatma (composición en sánscrito e hindi de mahā: ‘grande’ y ātmā: ‘alma’).[1]\\u200b En la India también se le llamaba Bāpu (બાપુ, ‘padre’ en idioma guyaratí).\\n'"
      ]
     },
     "execution_count": 50,
     "metadata": {},
     "output_type": "execute_result"
    }
   ],
   "source": [
    "#Gandhi_1 = bs.BeautifulSoup(Gandhi, 'html.parser')\n",
    "Gandhi_1.find('p').get_text()"
   ]
  },
  {
   "cell_type": "code",
   "execution_count": 51,
   "metadata": {},
   "outputs": [],
   "source": [
    "Gandhi_1 = bs.BeautifulSoup(Gandhi, 'html.parser')\n",
    "Gandhi_1.p.get('href')"
   ]
  },
  {
   "cell_type": "code",
   "execution_count": 52,
   "metadata": {},
   "outputs": [
    {
     "data": {
      "text/plain": [
       "[<a href=\"/wiki/Porbandar\" title=\"Porbandar\">Porbandar</a>,\n",
       " <a href=\"/wiki/Raj_brit%C3%A1nico\" title=\"Raj británico\">India británica</a>,\n",
       " <a href=\"/wiki/2_de_octubre\" title=\"2 de octubre\">2 de octubre</a>,\n",
       " <a href=\"/wiki/1869\" title=\"1869\">1869</a>,\n",
       " <a href=\"/wiki/Nueva_Delhi\" title=\"Nueva Delhi\">Nueva Delhi</a>,\n",
       " <a href=\"/wiki/Uni%C3%B3n_de_la_India\" title=\"Unión de la India\">Unión de la India</a>,\n",
       " <a href=\"/wiki/30_de_enero\" title=\"30 de enero\">30 de enero</a>,\n",
       " <a href=\"/wiki/1948\" title=\"1948\">1948</a>,\n",
       " <a href=\"/wiki/Movimiento_de_independencia_indio\" title=\"Movimiento de independencia indio\">Movimiento de independencia de la India</a>,\n",
       " <a href=\"/wiki/Raj_brit%C3%A1nico\" title=\"Raj británico\">Raj británico</a>,\n",
       " <a href=\"/wiki/Resistencia_no_violenta\" title=\"Resistencia no violenta\">desobediencia civil no violenta</a>,\n",
       " <a class=\"mw-redirect\" href=\"/wiki/Pacifista\" title=\"Pacifista\">pacifista</a>,\n",
       " <a href=\"/wiki/Pol%C3%ADtico\" title=\"Político\">político</a>,\n",
       " <a class=\"mw-redirect\" href=\"/wiki/Pensador\" title=\"Pensador\">pensador</a>,\n",
       " <a href=\"/wiki/Abogado\" title=\"Abogado\">abogado</a>,\n",
       " <a class=\"mw-redirect\" href=\"/wiki/Religi%C3%B3n_hinduista\" title=\"Religión hinduista\">hinduista</a>,\n",
       " <a href=\"/wiki/India\" title=\"India\">indio</a>,\n",
       " <a href=\"/wiki/Rabindranath_Tagore\" title=\"Rabindranath Tagore\">Rabindranath Tagore</a>,\n",
       " <a href=\"/wiki/Mahatma\" title=\"Mahatma\">Mahatma</a>,\n",
       " <a href=\"/wiki/Composici%C3%B3n_(ling%C3%BC%C3%ADstica)\" title=\"Composición (lingüística)\">composición</a>,\n",
       " <a href=\"/wiki/S%C3%A1nscrito\" title=\"Sánscrito\">sánscrito</a>,\n",
       " <a href=\"/wiki/Hindi\" title=\"Hindi\">hindi</a>,\n",
       " <a href=\"#cite_note-1\"><span class=\"corchete-llamada\">[</span>1<span class=\"corchete-llamada\">]</span></a>,\n",
       " <a href=\"/wiki/India\" title=\"India\">India</a>,\n",
       " <a href=\"/wiki/Idioma_guyarat%C3%AD\" title=\"Idioma guyaratí\">idioma guyaratí</a>]"
      ]
     },
     "execution_count": 52,
     "metadata": {},
     "output_type": "execute_result"
    }
   ],
   "source": [
    "Lista=Gandhi_1.find('p').find_all('a')\n",
    "Lista"
   ]
  },
  {
   "cell_type": "code",
   "execution_count": 150,
   "metadata": {},
   "outputs": [
    {
     "data": {
      "text/plain": [
       "['/wiki/Porbandar',\n",
       " '/wiki/Raj_brit%C3%A1nico',\n",
       " '/wiki/2_de_octubre',\n",
       " '/wiki/1869',\n",
       " '/wiki/Nueva_Delhi',\n",
       " '/wiki/Uni%C3%B3n_de_la_India',\n",
       " '/wiki/30_de_enero',\n",
       " '/wiki/1948',\n",
       " '/wiki/Movimiento_de_independencia_indio',\n",
       " '/wiki/Raj_brit%C3%A1nico',\n",
       " '/wiki/Resistencia_no_violenta',\n",
       " '/wiki/Pacifista',\n",
       " '/wiki/Pol%C3%ADtico',\n",
       " '/wiki/Pensador',\n",
       " '/wiki/Abogado',\n",
       " '/wiki/Religi%C3%B3n_hinduista',\n",
       " '/wiki/India',\n",
       " '/wiki/Rabindranath_Tagore',\n",
       " '/wiki/Mahatma',\n",
       " '/wiki/Composici%C3%B3n_(ling%C3%BC%C3%ADstica)',\n",
       " '/wiki/S%C3%A1nscrito',\n",
       " '/wiki/Hindi',\n",
       " '#cite_note-1',\n",
       " '/wiki/India',\n",
       " '/wiki/Idioma_guyarat%C3%AD']"
      ]
     },
     "execution_count": 150,
     "metadata": {},
     "output_type": "execute_result"
    }
   ],
   "source": [
    "itenLista=Lista[0]\n",
    "\n",
    "itenLista.get('href')\n",
    "Direcciones=[itenLista.get('href') for itenLista in Lista]\n",
    "Direcciones"
   ]
  },
  {
   "cell_type": "markdown",
   "metadata": {},
   "source": [
    "## Web scraping para 10 páginas"
   ]
  },
  {
   "cell_type": "code",
   "execution_count": null,
   "metadata": {},
   "outputs": [],
   "source": [
    "#Punto 2.1 "
   ]
  },
  {
   "cell_type": "code",
   "execution_count": 135,
   "metadata": {},
   "outputs": [],
   "source": [
    "import requests"
   ]
  },
  {
   "cell_type": "code",
   "execution_count": 205,
   "metadata": {},
   "outputs": [],
   "source": [
    "lista_10 = [\"https://es.wikipedia.org/wiki/Dal%C3%A1i_lama\",\"https://es.wikipedia.org/wiki/Rodrigo_de_Bastidas\",\"https://es.wikipedia.org/wiki/Konrad_Lorenz\",\"https://es.wikipedia.org/wiki/Mahatma_Gandhi\",\"https://es.wikipedia.org/wiki/Sim%C3%B3n_Bol%C3%ADvar\",\"https://es.wikipedia.org/wiki/Teresa_de_Calcuta\",\"https://es.wikipedia.org/wiki/Jorge_Eli%C3%A9cer_Gait%C3%A1n\",\"https://es.wikipedia.org/wiki/Manuela_S%C3%A1enz\",\"https://es.wikipedia.org/wiki/Policarpa_Salavarrieta\",\"https://es.wikipedia.org/wiki/Esmeralda_Arboleda\"] "
   ]
  },
  {
   "cell_type": "code",
   "execution_count": 206,
   "metadata": {},
   "outputs": [
    {
     "data": {
      "text/plain": [
       "['https://es.wikipedia.org/wiki/Dal%C3%A1i_lama',\n",
       " 'https://es.wikipedia.org/wiki/Rodrigo_de_Bastidas',\n",
       " 'https://es.wikipedia.org/wiki/Konrad_Lorenz',\n",
       " 'https://es.wikipedia.org/wiki/Mahatma_Gandhi',\n",
       " 'https://es.wikipedia.org/wiki/Sim%C3%B3n_Bol%C3%ADvar',\n",
       " 'https://es.wikipedia.org/wiki/Teresa_de_Calcuta',\n",
       " 'https://es.wikipedia.org/wiki/Jorge_Eli%C3%A9cer_Gait%C3%A1n',\n",
       " 'https://es.wikipedia.org/wiki/Manuela_S%C3%A1enz',\n",
       " 'https://es.wikipedia.org/wiki/Policarpa_Salavarrieta',\n",
       " 'https://es.wikipedia.org/wiki/Esmeralda_Arboleda']"
      ]
     },
     "execution_count": 206,
     "metadata": {},
     "output_type": "execute_result"
    }
   ],
   "source": [
    "lista_10"
   ]
  },
  {
   "cell_type": "code",
   "execution_count": 216,
   "metadata": {},
   "outputs": [
    {
     "name": "stdout",
     "output_type": "stream",
     "text": [
      "********************  NUEVA BIOGRAFÍA   ********************\n",
      "url wikipedia:https://es.wikipedia.org/wiki/Dal%C3%A1i_lama\n",
      "\n",
      "Titulo:Dalái lama\n",
      "\n",
      "Parrafo:El dalái lama[1]​ (de la palabra mongola dalai, «océano», y de la tibetana lama, «maestro reencarnado» o «gurú») es el título que obtiene el dirigente de la Administración Central Tibetana y el líder espiritual del lamaísmo o budismo tibetano. Es el término utilizado en el budismo tibetano y en la religión bön para referirse a aquel maestro que ha logrado tener el control parcial o total en la muerte sobre la forma de su reencarnación, y el conocimiento del lugar de su nuevo nacimiento. El actual dalái lama es Tenzin Gyatso (6 de julio de 1935, 85 años).\n",
      "\n",
      "\n",
      "#cite_note-1\n",
      "/wiki/Idioma_mongol\n",
      "/wiki/Idioma_tibetano\n",
      "/wiki/Lama_(budismo)\n",
      "/wiki/Gur%C3%BA\n",
      "/wiki/Administraci%C3%B3n_Central_Tibetana\n",
      "/wiki/Lama%C3%ADsmo\n",
      "/wiki/Budismo_tibetano\n",
      "/wiki/Budismo_tibetano\n",
      "/wiki/B%C3%B6n\n",
      "/wiki/Reencarnaci%C3%B3n\n",
      "/wiki/Tenzin_Gyatso\n",
      "/wiki/6_de_julio\n",
      "/wiki/1935\n",
      "********************  NUEVA BIOGRAFÍA   ********************\n",
      "url wikipedia:https://es.wikipedia.org/wiki/Rodrigo_de_Bastidas\n",
      "\n",
      "Titulo:Rodrigo de Bastidas\n",
      "\n",
      "Parrafo:Rodrigo de Bastidas, a veces escrito como Rodrigo de la Bastida[1]​ (Sevilla, 1475[2]​-Santiago de Cuba, 1527) fue un adelantado y conquistador español. Exploró el litoral atlántico colombiano, desde la península de La Guajira hasta el golfo de Urabá, el istmo de Panamá y el río Magdalena, y fundó la ciudad de Santa Marta el 29 de julio de 1525.\n",
      "\n",
      "\n",
      "#cite_note-FOOTNOTEGroot18891-1\n",
      "/wiki/Sevilla\n",
      "/wiki/1475\n",
      "#cite_note-2\n",
      "/wiki/Santiago_de_Cuba\n",
      "/wiki/1527\n",
      "/wiki/Adelantado\n",
      "/wiki/Conquistadores\n",
      "/wiki/Espa%C3%B1a\n",
      "/wiki/Pen%C3%ADnsula_de_La_Guajira\n",
      "/wiki/Golfo_de_Urab%C3%A1\n",
      "/wiki/Istmo_de_Panam%C3%A1\n",
      "/wiki/R%C3%ADo_Magdalena\n",
      "/wiki/Santa_Marta_(Colombia)\n",
      "********************  NUEVA BIOGRAFÍA   ********************\n",
      "url wikipedia:https://es.wikipedia.org/wiki/Konrad_Lorenz\n",
      "\n",
      "Titulo:Konrad Lorenz\n",
      "\n",
      "Parrafo:Konrad Zacharias Lorenz (pronunciación en alemán: /ˈkɔnʁaːt ˈloːʁɛnts/; 7 de noviembre de 1903 – 27 de febrero de 1989) fue un zoólogo, etólogo y ornitólogo austríaco. Compartió el Premio Nobel de Medicina de 1973 con Nikolaas Tinbergen y Karl von Frisch. A menudo se lo considera uno de los fundadores de la etología moderna, el estudio del comportamiento animal. Desarrolló un enfoque que comenzó con una generación anterior, que incluía a su maestro Oskar Heinroth.[1]​\n",
      "\n",
      "\n",
      "/wiki/Ayuda:AFI/Alem%C3%A1n\n",
      "/wiki/7_de_noviembre\n",
      "/wiki/1903\n",
      "/wiki/27_de_febrero\n",
      "/wiki/1989\n",
      "/wiki/Zoolog%C3%ADa\n",
      "/wiki/Etolog%C3%ADa\n",
      "/wiki/Ornitolog%C3%ADa\n",
      "/wiki/Austria\n",
      "/wiki/Premio_Nobel_de_Medicina\n",
      "/wiki/1973\n",
      "/wiki/Nikolaas_Tinbergen\n",
      "/wiki/Karl_von_Frisch\n",
      "/wiki/Comportamiento_animal\n",
      "/wiki/Oskar_Heinroth\n",
      "#cite_note-formemrs-1\n",
      "********************  NUEVA BIOGRAFÍA   ********************\n",
      "url wikipedia:https://es.wikipedia.org/wiki/Mahatma_Gandhi\n",
      "\n",
      "Titulo:Mahatma Gandhi\n",
      "\n",
      "Parrafo: Mohandas Karamchand Gandhi (Porbandar, India británica; 2 de octubre de 1869-Nueva Delhi, Unión de la India; 30 de enero de 1948) fue el dirigente más destacado del Movimiento de independencia de la India contra el Raj británico, para lo que practicó la desobediencia civil no violenta, además de pacifista, político, pensador y abogado hinduista indio. Recibió de Rabindranath Tagore el nombre honorífico de Mahatma (composición en sánscrito e hindi de mahā: ‘grande’ y ātmā: ‘alma’).[1]​ En la India también se le llamaba Bāpu (બાપુ, ‘padre’ en idioma guyaratí).\n",
      "\n",
      "\n",
      "/wiki/Porbandar\n",
      "/wiki/Raj_brit%C3%A1nico\n",
      "/wiki/2_de_octubre\n",
      "/wiki/1869\n",
      "/wiki/Nueva_Delhi\n",
      "/wiki/Uni%C3%B3n_de_la_India\n",
      "/wiki/30_de_enero\n",
      "/wiki/1948\n",
      "/wiki/Movimiento_de_independencia_indio\n",
      "/wiki/Raj_brit%C3%A1nico\n",
      "/wiki/Resistencia_no_violenta\n",
      "/wiki/Pacifista\n",
      "/wiki/Pol%C3%ADtico\n",
      "/wiki/Pensador\n",
      "/wiki/Abogado\n",
      "/wiki/Religi%C3%B3n_hinduista\n",
      "/wiki/India\n",
      "/wiki/Rabindranath_Tagore\n",
      "/wiki/Mahatma\n",
      "/wiki/Composici%C3%B3n_(ling%C3%BC%C3%ADstica)\n",
      "/wiki/S%C3%A1nscrito\n",
      "/wiki/Hindi\n",
      "#cite_note-1\n",
      "/wiki/India\n",
      "/wiki/Idioma_guyarat%C3%AD\n",
      "********************  NUEVA BIOGRAFÍA   ********************\n",
      "url wikipedia:https://es.wikipedia.org/wiki/Sim%C3%B3n_Bol%C3%ADvar\n",
      "\n",
      "Titulo:Simón Bolívar\n",
      "\n",
      "Parrafo:Simón José Antonio de la Santísima Trinidad Bolívar Palacios (Caracas, 24 de julio de 1783[nota 1]​[nota 2]​[3]​-Santa Marta, 17 de diciembre de 1830), más conocido como Simón Bolívar ( pronunciación (?·i)), fue un militar y político venezolano, fundador de las repúblicas de la Gran Colombia y Bolivia. Fue una de las figuras más destacadas de la emancipación hispanoamericana frente al Imperio español. Contribuyó a inspirar y concretar de manera decisiva la independencia de las actuales Bolivia, Colombia, Ecuador, Panamá,[4]​ Perú y Venezuela.\n",
      "\n",
      "\n",
      "/wiki/Caracas\n",
      "#cite_note-nota1-1\n",
      "#cite_note-nota2-2\n",
      "#cite_note-5\n",
      "/wiki/Santa_Marta_(Colombia)\n",
      "/wiki/Archivo:Simon_Bolivar-es.ogg\n",
      "//upload.wikimedia.org/wikipedia/commons/5/54/Simon_Bolivar-es.ogg\n",
      "/wiki/Ayuda:Multimedia\n",
      "/wiki/Archivo:Simon_Bolivar-es.ogg\n",
      "/wiki/Capitan%C3%ADa_General_de_Venezuela\n",
      "/wiki/Gran_Colombia\n",
      "/wiki/Bolivia\n",
      "/wiki/Guerras_de_independencia_hispanoamericanas\n",
      "/wiki/Imperio_espa%C3%B1ol\n",
      "/wiki/Bolivia\n",
      "/wiki/Colombia\n",
      "/wiki/Ecuador\n",
      "/wiki/Panam%C3%A1\n",
      "#cite_note-6\n",
      "/wiki/Per%C3%BA\n",
      "/wiki/Venezuela\n",
      "********************  NUEVA BIOGRAFÍA   ********************\n",
      "url wikipedia:https://es.wikipedia.org/wiki/Teresa_de_Calcuta\n",
      "\n",
      "Titulo:Teresa de Calcuta\n",
      "\n",
      "Parrafo:Teresa de Calcuta (Uskub, Imperio otomano —actual Skopie, Macedonia del Norte—; 26 de agosto de 1910-Calcuta, India; 5 de septiembre de 1997), de nombre secular Agnes Gonxha Bojaxhiu[3]​ (AFI: [aɡˈnɛs ˈɡɔndʒa bɔjaˈdʒiu]) y también conocida como Santa Teresa de Calcuta[4]​ o Madre Teresa de Calcuta,[5]​ fue una monja católica de origen albanés[6]​[7]​ naturalizada india,[8]​ que fundó la congregación de las Misioneras de la Caridad en Calcuta en 1950. Durante más de 45 años atendió a pobres, enfermos, huérfanos y moribundos, al mismo tiempo que guiaba la expansión de su congregación, en un primer momento en la India y luego en otros países del mundo. Tras su muerte, fue beatificada por el papa Juan Pablo II.[9]​[3]​ Su canonización fue aprobada por el papa Francisco en diciembre de 2015, después de que la Congregación para las Causas de los Santos reconociera como extraordinaria la curación de un brasileño enfermo en estado terminal.[10]​ El acto oficial de canonización tuvo lugar en Roma en la mañana del domingo 4 de septiembre de 2016.[11]​\n",
      "\n",
      "\n",
      "/wiki/Skopie\n",
      "/wiki/Imperio_otomano\n",
      "/wiki/Skopie\n",
      "/wiki/Macedonia_del_Norte\n",
      "/wiki/26_de_agosto\n",
      "/wiki/1910\n",
      "/wiki/Calcuta\n",
      "/wiki/India\n",
      "/wiki/5_de_septiembre\n",
      "/wiki/1997\n",
      "#cite_note-brittanica-3\n",
      "/wiki/Alfabeto_Fon%C3%A9tico_Internacional\n",
      "#cite_note-4\n",
      "#cite_note-5\n",
      "/wiki/Monja\n",
      "/wiki/Iglesia_cat%C3%B3lica\n",
      "/wiki/Albania\n",
      "#cite_note-spink-6\n",
      "#cite_note-MToC-7\n",
      "/wiki/India\n",
      "#cite_note-8\n",
      "/wiki/Misioneras_de_la_Caridad\n",
      "/wiki/Calcuta\n",
      "/wiki/Beato\n",
      "/wiki/Juan_Pablo_II\n",
      "#cite_note-9\n",
      "#cite_note-brittanica-3\n",
      "/wiki/Canonizaci%C3%B3n\n",
      "/wiki/Francisco_(papa)\n",
      "/wiki/Congregaci%C3%B3n_para_las_Causas_de_los_Santos\n",
      "#cite_note-Ordaz-10\n",
      "/wiki/Roma\n",
      "#cite_note-11\n",
      "********************  NUEVA BIOGRAFÍA   ********************\n",
      "url wikipedia:https://es.wikipedia.org/wiki/Jorge_Eli%C3%A9cer_Gait%C3%A1n\n",
      "\n",
      "Titulo:Jorge Eliécer Gaitán\n",
      "\n",
      "Parrafo:Jorge Eliécer Gaitán Ayala  (Bogotá, 23 de enero de 1903[1]​ – Ibídem, 9 de abril de 1948) fue un jurista, escritor, activista, orador y político nacionalista colombiano. Fue rector de la Universidad Libre (Colombia) entre 1936 y 1939,[2]​ de la cual, además, fue catedrático de Derecho Penal desde 1931 hasta su muerte. Fue alcalde de Bogotá en el año 1936, titular en dos ministerios (Educación en 1940 y Trabajo en 1944) y congresista durante varios períodos entre 1929 y 1948. También fue candidato presidencial disidente del Partido Liberal en las elecciones de 1946 y su posterior jefe único, además que iba a ser el candidato oficial del partido para las presidenciales de 1950 (que finalmente se desarrollaron en 1949 debido a su asesinato).[3]​\n",
      "\n",
      "\n",
      "/wiki/Bogot%C3%A1\n",
      "/wiki/23_de_enero\n",
      "/wiki/1903\n",
      "#cite_note-1\n",
      "/wiki/Ib%C3%ADdem\n",
      "/wiki/9_de_abril\n",
      "/wiki/1948\n",
      "/wiki/Jurista\n",
      "/wiki/Escritor\n",
      "/wiki/Nacionalista\n",
      "/wiki/Colombiano\n",
      "/wiki/Universidad_Libre_(Colombia)\n",
      "/wiki/1936\n",
      "/wiki/1939\n",
      "#cite_note-2\n",
      "/wiki/Derecho_Penal\n",
      "/wiki/1931\n",
      "/wiki/Alcalde_de_Bogot%C3%A1\n",
      "/wiki/1936\n",
      "/wiki/Ministerio_de_Educaci%C3%B3n_de_Colombia\n",
      "/wiki/1940\n",
      "/wiki/Ministerio_del_Trabajo_(Colombia)\n",
      "/wiki/1944\n",
      "/wiki/Congreso_de_la_Rep%C3%BAblica_de_Colombia\n",
      "/wiki/1929\n",
      "/wiki/1948\n",
      "/wiki/Disidente\n",
      "/wiki/Partido_Liberal_Colombiano\n",
      "/wiki/Elecciones_presidenciales_de_Colombia_de_1946\n",
      "/wiki/Elecciones_presidenciales_de_Colombia_de_1949\n",
      "/wiki/1949\n",
      "#cite_note-3\n",
      "********************  NUEVA BIOGRAFÍA   ********************\n",
      "url wikipedia:https://es.wikipedia.org/wiki/Manuela_S%C3%A1enz\n",
      "\n",
      "Titulo:Manuela Sáenz\n",
      "\n",
      "Parrafo:Manuela Sáenz de Vergara y Aizpuru (Quito, Real Audiencia de Quito, 27 de diciembre de 1797-Paita, Perú, 23 de noviembre de 1856) fue una patriota ecuatoriana, reconocida por la historiografía independentista hispanoamericana contemporánea como heroína de la independencia de América del Sur. Es conocida también como Manuelita Sáenz y como Libertadora del Libertador, apodo que le otorgó Simón Bolívar al salvarle la vida durante la conspiración Septembrina en Bogotá.[1]​\n",
      "\n",
      "\n",
      "/wiki/Quito\n",
      "/wiki/Real_Audiencia_de_Quito\n",
      "/wiki/27_de_diciembre\n",
      "/wiki/1797\n",
      "/wiki/Paita\n",
      "/wiki/Per%C3%BA\n",
      "/wiki/23_de_noviembre\n",
      "/wiki/1856\n",
      "/wiki/Ecuador\n",
      "/wiki/Historiograf%C3%ADa\n",
      "/wiki/Independencia_de_la_Am%C3%A9rica_Hispana\n",
      "/wiki/Antecedentes_de_la_independencia_de_la_Am%C3%A9rica_Hispana\n",
      "/wiki/Sim%C3%B3n_Bol%C3%ADvar\n",
      "/wiki/Conspiraci%C3%B3n_Septembrina\n",
      "/wiki/Bogot%C3%A1\n",
      "#cite_note-1\n",
      "********************  NUEVA BIOGRAFÍA   ********************\n",
      "url wikipedia:https://es.wikipedia.org/wiki/Policarpa_Salavarrieta\n",
      "\n",
      "Titulo:Policarpa Salavarrieta\n",
      "\n",
      "Parrafo:Policarpa Salavarrieta Ríos (San Miguel de Guaduas, 21 de enero de 1800-Santafé, 14 de noviembre de 1817), más conocida como la Pola, fue una heroína que espió para las fuerzas independentistas criollas durante la Reconquista española.[1]​\n",
      "Se le considera una heroína de la independencia colombiana. Fue ejecutada en la Plaza Mayor de Bogotá.\n",
      "\n",
      "\n",
      "/wiki/Guaduas\n",
      "/wiki/Santaf%C3%A9\n",
      "/wiki/Reconquista_(Colombia)\n",
      "#cite_note-uno-1\n",
      "/wiki/Independencia_de_Colombia\n",
      "/wiki/Colombia\n",
      "/wiki/Plaza_de_Bol%C3%ADvar\n",
      "********************  NUEVA BIOGRAFÍA   ********************\n",
      "url wikipedia:https://es.wikipedia.org/wiki/Esmeralda_Arboleda\n",
      "\n",
      "Titulo:Esmeralda Arboleda\n",
      "\n",
      "Parrafo:Esmeralda Arboleda Cadavid (Palmira, 7 de enero de 1921 - Bogotá, 16 de abril de 1997) fue una abogada y política colombiana.  Lideró el movimiento sufragista en Colombia junto a su compañera Josefina Valencia de Hubach. Fue la primera mujer Senadora de la República en la historia de Colombia (de 1958 a 1961) y la primera embajadora. Fue miembro del Partido Liberal. En 1980 actuó como Relatora Especial de la Comisión sobre el estatus de la mujer en la reunión del Consejo Económico y Social de la ONU en un informe sobre la influencia de los medios de comunicación en los papeles de mujeres y hombres en la sociedad.\n",
      "\n",
      "\n",
      "/wiki/Palmira_(Valle_del_Cauca)\n",
      "/wiki/7_de_enero\n",
      "/wiki/1921\n",
      "/wiki/Bogot%C3%A1\n",
      "/wiki/16_de_abril\n",
      "/wiki/1997\n",
      "/wiki/Josefina_Valencia_de_Hubach\n",
      "/wiki/Senado_de_Colombia\n",
      "/wiki/Partido_Liberal_Colombiano\n",
      "/wiki/Consejo_Econ%C3%B3mico_y_Social_de_las_Naciones_Unidas\n"
     ]
    }
   ],
   "source": [
    "# Descargar pagina web en Python\n",
    "for link in lista_10:        \n",
    "    \n",
    "    print(\"********************  NUEVA BIOGRAFÍA   ********************\")   \n",
    "    \n",
    "    print(\"url wikipedia:\" + link + \"\\n\")\n",
    "    \n",
    "    request = urllib.request.urlopen(link) #para abrir el link\n",
    "    pagina = request.read() # para leer\n",
    "    request.close() #cerrar el requerimiento\n",
    "    pagina_texto = bs.BeautifulSoup(pagina,'html.parser') #procesar la pagina web porque se descargo como binario (.parser)    \n",
    "    #print(pagina_texto)\n",
    "   \n",
    "    #Busca la primera etiqueta de h1 que en este caso es el titulo\n",
    "    pagina_texto.find('h1',attrs={'class':'firstHeading'}) # para hacer busqueda por atributo (algo que esta antes de=)     \n",
    "    titulo= pagina_texto.h1.get_text()# para imprimir el titulo de la busqueda\n",
    "    print(\"Titulo:\" + titulo + \"\\n\")\n",
    "    \n",
    "   \n",
    "    \n",
    "    #obtiene el primer p que es el parrafo\n",
    "    parrafo=pagina_texto.find('p').get_text()\n",
    "    print(\"Parrafo:\" + parrafo + \"\\n\")\n",
    "    \n",
    "    \n",
    "    #obtiene todos lo hipervinculos o URL del primer parrafo\n",
    "    lista_url_parrafo= pagina_texto.find('p').find_all('a')\n",
    "    #print(lista_url_parrafo)\n",
    "    \n",
    "    \n",
    "    #url_parafo=[item_lista.get('href') for item_lista in lista_url_parrafo]\n",
    "    #print(url_parafo)\n",
    "    \n",
    "    for item_lista in lista_url_parrafo:\n",
    "        url_parrafo=item_lista.get('href')\n",
    "        print(url_parrafo)\n",
    "    \n",
    "    \n",
    "  \n",
    "        \n",
    "    \n",
    "    \n",
    "    \n",
    "   \n",
    "    \n",
    "    "
   ]
  },
  {
   "cell_type": "code",
   "execution_count": null,
   "metadata": {},
   "outputs": [],
   "source": []
  }
 ],
 "metadata": {
  "kernelspec": {
   "display_name": "Python 3",
   "language": "python",
   "name": "python3"
  },
  "language_info": {
   "codemirror_mode": {
    "name": "ipython",
    "version": 3
   },
   "file_extension": ".py",
   "mimetype": "text/x-python",
   "name": "python",
   "nbconvert_exporter": "python",
   "pygments_lexer": "ipython3",
   "version": "3.7.6"
  }
 },
 "nbformat": 4,
 "nbformat_minor": 4
}
