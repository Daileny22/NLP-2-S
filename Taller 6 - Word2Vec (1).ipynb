{
 "cells": [
  {
   "cell_type": "markdown",
   "metadata": {},
   "source": [
    "<img src='https://encrypted-tbn0.gstatic.com/images?q=tbn%3AANd9GcQ-VfNtOyJbsaxu43Kztf_cv1mgBG6ZIQZEVw&usqp=CAU'>\n",
    "\n",
    "# Procesamiento de Lenguage Natural\n",
    "\n",
    "## Taller #6: Word2Vec\n",
    "`Fecha de entrega: Septiembre 19, 2020. (Antes del inicio de la próxima clase).`\n",
    "\n",
    "`Modo de entrega: Subir link de GitHub al aula virtual.`\n",
    "\n",
    "\n",
    "\n",
    "## Libre elección\n",
    "\n",
    "Expectativas:\n",
    "- Uso de Word2Vec \n",
    "- Responder:\n",
    "    - ¿Su modelo da buenos resultados? ¿Por qué sí o por qué no?\n",
    "    \n",
    "    No, la verdad veo que no tiene mucho sentido, creo que en buena medida se debe a que es el archivo princesas es pequeño y \n",
    "    no tiene tantas palabras con las que se pueda entrenar bien, trate de visualizar algunas palabras y genera error porque no      existe en el vocabulario\n",
    "    \n",
    "    \n",
    "    - ¿Qué problemas encontró al realizar este taller?   \n",
    "    Basicamente que no le encontre sentido a los resultados\n",
    "    \n",
    "    \n",
    "Ideas algunas por si están varados: \n",
    "- Hacer más visualizaciones\n",
    "- Jugar con los parámetros de la funcion word2vec de gensim\n",
    "- Usar alguna función de gensim que no hayamos visto en clase (https://radimrehurek.com/gensim/models/word2vec.html#module-gensim.models.word2vec)\n",
    "- Comparar palabras del inglés y el español\n",
    "- Encontrar analogías y similutdes interesantes\n",
    "\n",
    "\n",
    "### Enviar código con explicaciones del por qué escogieron ese camino\n",
    "\n",
    "    Elegí la ultima opción vista en clase porque entendí que es la forma en como se hace en el ambito empresarial"
   ]
  },
  {
   "cell_type": "code",
   "execution_count": 11,
   "metadata": {},
   "outputs": [],
   "source": [
    "#importar librerias\n",
    "import re\n",
    "import sys\n",
    "import numpy as np\n",
    "import pandas as pd"
   ]
  },
  {
   "cell_type": "code",
   "execution_count": 15,
   "metadata": {},
   "outputs": [
    {
     "data": {
      "text/html": [
       "<div>\n",
       "<style scoped>\n",
       "    .dataframe tbody tr th:only-of-type {\n",
       "        vertical-align: middle;\n",
       "    }\n",
       "\n",
       "    .dataframe tbody tr th {\n",
       "        vertical-align: top;\n",
       "    }\n",
       "\n",
       "    .dataframe thead th {\n",
       "        text-align: right;\n",
       "    }\n",
       "</style>\n",
       "<table border=\"1\" class=\"dataframe\">\n",
       "  <thead>\n",
       "    <tr style=\"text-align: right;\">\n",
       "      <th></th>\n",
       "      <th>Princesa</th>\n",
       "      <th>Personalidad</th>\n",
       "      <th>pp</th>\n",
       "    </tr>\n",
       "  </thead>\n",
       "  <tbody>\n",
       "    <tr>\n",
       "      <th>0</th>\n",
       "      <td>Blancanieves</td>\n",
       "      <td>Blancanieves es una princesa de noble cuna que...</td>\n",
       "      <td>[blancanieves, princesa, noble, cuna, ve, forz...</td>\n",
       "    </tr>\n",
       "    <tr>\n",
       "      <th>1</th>\n",
       "      <td>Cenicienta</td>\n",
       "      <td>Cenicienta es inicialmente una sirvienta en su...</td>\n",
       "      <td>[cenicienta, inicialmente, sirvienta, casa, co...</td>\n",
       "    </tr>\n",
       "    <tr>\n",
       "      <th>2</th>\n",
       "      <td>Aurora</td>\n",
       "      <td>La Princesa Aurora, la Bella Durmiente, es la ...</td>\n",
       "      <td>[princesa, aurora, bella, durmiente, hija, úni...</td>\n",
       "    </tr>\n",
       "    <tr>\n",
       "      <th>3</th>\n",
       "      <td>Bella</td>\n",
       "      <td>Bella es una muchacha que vive en la campiña f...</td>\n",
       "      <td>[bella, muchacha, vive, campiña, francesa, pad...</td>\n",
       "    </tr>\n",
       "    <tr>\n",
       "      <th>4</th>\n",
       "      <td>Jasmín</td>\n",
       "      <td>Cuando se introdujo por primera vez, la Prince...</td>\n",
       "      <td>[introdujo, primera, vez, princesa, jasmín, po...</td>\n",
       "    </tr>\n",
       "  </tbody>\n",
       "</table>\n",
       "</div>"
      ],
      "text/plain": [
       "       Princesa                                       Personalidad  \\\n",
       "0  Blancanieves  Blancanieves es una princesa de noble cuna que...   \n",
       "1    Cenicienta  Cenicienta es inicialmente una sirvienta en su...   \n",
       "2        Aurora  La Princesa Aurora, la Bella Durmiente, es la ...   \n",
       "3         Bella  Bella es una muchacha que vive en la campiña f...   \n",
       "4        Jasmín  Cuando se introdujo por primera vez, la Prince...   \n",
       "\n",
       "                                                  pp  \n",
       "0  [blancanieves, princesa, noble, cuna, ve, forz...  \n",
       "1  [cenicienta, inicialmente, sirvienta, casa, co...  \n",
       "2  [princesa, aurora, bella, durmiente, hija, úni...  \n",
       "3  [bella, muchacha, vive, campiña, francesa, pad...  \n",
       "4  [introdujo, primera, vez, princesa, jasmín, po...  "
      ]
     },
     "execution_count": 15,
     "metadata": {},
     "output_type": "execute_result"
    }
   ],
   "source": [
    "from nltk.corpus import stopwords\n",
    "stopwords_sp = stopwords.words('spanish')\n",
    "\n",
    " \n",
    "\n",
    "def pre_procesado(texto):\n",
    "    texto = texto.lower() #minuscula\n",
    "    texto = re.sub(r\"[\\W\\d_]+\", \" \", texto)#quitar caracteres especiales\n",
    "    texto = \" \".join([palabra for palabra in texto.split() if palabra not in stopwords_sp])\n",
    "    return texto.split()\n",
    "\n",
    " \n",
    "\n",
    "princesas = pd.read_csv(r'D:/NLP/clase6-19-09-20/Princesas.csv', sep=',')\n",
    "princesas['pp'] = princesas['Personalidad'].apply(lambda texto: pre_procesado(texto))\n",
    "\n",
    "\n",
    "princesas.head()"
   ]
  },
  {
   "cell_type": "code",
   "execution_count": null,
   "metadata": {},
   "outputs": [],
   "source": [
    "princesas."
   ]
  },
  {
   "cell_type": "code",
   "execution_count": 30,
   "metadata": {},
   "outputs": [],
   "source": [
    "import gensim.models.word2vec as w2v"
   ]
  },
  {
   "cell_type": "markdown",
   "metadata": {},
   "source": [
    "Entrenar modelo sin hacer red neuronal"
   ]
  },
  {
   "cell_type": "code",
   "execution_count": 63,
   "metadata": {},
   "outputs": [
    {
     "name": "stdout",
     "output_type": "stream",
     "text": [
      "Wall time: 78 ms\n"
     ]
    }
   ],
   "source": [
    "%%time\n",
    " \n",
    "\n",
    "mi_modelo = w2v.Word2Vec(princesas['pp'].values,\n",
    "                         sg=0, # 1 skip-gram. 0 CBOW - palabras del centro o las que le rodean\n",
    "                         seed=1, # semilla\n",
    "                         size=25, # número de dimensiones\n",
    "                         min_count=3, #número min de veces que debe aparecer la palabra en el corpus\n",
    "                         window=2)"
   ]
  },
  {
   "cell_type": "code",
   "execution_count": 29,
   "metadata": {},
   "outputs": [],
   "source": [
    "from sklearn.decomposition import PCA #analisis de componente principal, reducir el número de dimensiones para visualizar mejor\n",
    "#cargar librerias visualización\n",
    "import matplotlib.pyplot as plt\n",
    "import plotly.graph_objs as go\n",
    "from plotly.offline import iplot"
   ]
  },
  {
   "cell_type": "code",
   "execution_count": 64,
   "metadata": {},
   "outputs": [
    {
     "data": {
      "text/plain": [
       "[('lugar', 0.46482864022254944),\n",
       " ('puede', 0.3291102945804596),\n",
       " ('siempre', 0.32111403346061707),\n",
       " ('cosas', 0.3180447816848755),\n",
       " ('príncipe', 0.29810017347335815),\n",
       " ('día', 0.2815183401107788),\n",
       " ('primera', 0.26573166251182556),\n",
       " ('verdadero', 0.2632804214954376),\n",
       " ('princesa', 0.24878644943237305),\n",
       " ('malvada', 0.24797756969928741)]"
      ]
     },
     "execution_count": 64,
     "metadata": {},
     "output_type": "execute_result"
    }
   ],
   "source": [
    "mi_modelo.wv.most_similar(\"bella\")"
   ]
  },
  {
   "cell_type": "code",
   "execution_count": 65,
   "metadata": {},
   "outputs": [
    {
     "data": {
      "text/plain": [
       "[('persona', 0.599745512008667),\n",
       " ('amable', 0.41895774006843567),\n",
       " ('gran', 0.3044593334197998),\n",
       " ('ve', 0.2961769700050354),\n",
       " ('día', 0.2941463589668274),\n",
       " ('gente', 0.2814052999019623),\n",
       " ('dos', 0.2712157666683197),\n",
       " ('segura', 0.26191040873527527),\n",
       " ('bella', 0.24878644943237305),\n",
       " ('grimhilde', 0.2438596934080124)]"
      ]
     },
     "execution_count": 65,
     "metadata": {},
     "output_type": "execute_result"
    }
   ],
   "source": [
    "mi_modelo.wv.most_similar(\"princesa\")"
   ]
  },
  {
   "cell_type": "code",
   "execution_count": 72,
   "metadata": {},
   "outputs": [
    {
     "data": {
      "text/plain": [
       "[('madrastra', 0.45001912117004395),\n",
       " ('princesa', 0.41895774006843567),\n",
       " ('persona', 0.340952605009079),\n",
       " ('mérida', 0.33806827664375305),\n",
       " ('ve', 0.328824520111084),\n",
       " ('así', 0.31938377022743225),\n",
       " ('gran', 0.29800814390182495),\n",
       " ('amor', 0.25479593873023987),\n",
       " ('misma', 0.23604118824005127),\n",
       " ('sigue', 0.21949180960655212)]"
      ]
     },
     "execution_count": 72,
     "metadata": {},
     "output_type": "execute_result"
    }
   ],
   "source": [
    "mi_modelo.wv.most_similar(\"amable\") "
   ]
  },
  {
   "cell_type": "code",
   "execution_count": 66,
   "metadata": {},
   "outputs": [
    {
     "name": "stdout",
     "output_type": "stream",
     "text": [
      "['lugar', 'puede', 'siempre', 'cosas', 'príncipe', 'día', 'primera', 'verdadero', 'princesa', 'malvada', 'persona', 'amable', 'gran', 've', 'día', 'gente', 'dos', 'segura', 'bella', 'grimhilde']\n"
     ]
    }
   ],
   "source": [
    "vocab = [e[0] for e in mi_modelo.wv.most_similar(\"bella\")]+[e[0] for e in mi_modelo.wv.most_similar(\"princesa\")]\n",
    "print(vocab)"
   ]
  },
  {
   "cell_type": "code",
   "execution_count": 67,
   "metadata": {},
   "outputs": [
    {
     "name": "stderr",
     "output_type": "stream",
     "text": [
      "C:\\Users\\toshiba\\anaconda3\\lib\\site-packages\\ipykernel_launcher.py:1: DeprecationWarning:\n",
      "\n",
      "Call to deprecated `__getitem__` (Method will be removed in 4.0.0, use self.wv.__getitem__() instead).\n",
      "\n"
     ]
    },
    {
     "data": {
      "text/html": [
       "<div>\n",
       "<style scoped>\n",
       "    .dataframe tbody tr th:only-of-type {\n",
       "        vertical-align: middle;\n",
       "    }\n",
       "\n",
       "    .dataframe tbody tr th {\n",
       "        vertical-align: top;\n",
       "    }\n",
       "\n",
       "    .dataframe thead th {\n",
       "        text-align: right;\n",
       "    }\n",
       "</style>\n",
       "<table border=\"1\" class=\"dataframe\">\n",
       "  <thead>\n",
       "    <tr style=\"text-align: right;\">\n",
       "      <th></th>\n",
       "      <th>0</th>\n",
       "      <th>1</th>\n",
       "      <th>2</th>\n",
       "      <th>3</th>\n",
       "      <th>4</th>\n",
       "      <th>5</th>\n",
       "      <th>6</th>\n",
       "      <th>7</th>\n",
       "      <th>8</th>\n",
       "      <th>9</th>\n",
       "      <th>...</th>\n",
       "      <th>15</th>\n",
       "      <th>16</th>\n",
       "      <th>17</th>\n",
       "      <th>18</th>\n",
       "      <th>19</th>\n",
       "      <th>20</th>\n",
       "      <th>21</th>\n",
       "      <th>22</th>\n",
       "      <th>23</th>\n",
       "      <th>24</th>\n",
       "    </tr>\n",
       "  </thead>\n",
       "  <tbody>\n",
       "    <tr>\n",
       "      <th>princesa</th>\n",
       "      <td>0.016408</td>\n",
       "      <td>-0.005344</td>\n",
       "      <td>0.014504</td>\n",
       "      <td>-0.018930</td>\n",
       "      <td>0.008186</td>\n",
       "      <td>0.007692</td>\n",
       "      <td>-0.000383</td>\n",
       "      <td>0.003643</td>\n",
       "      <td>-0.011625</td>\n",
       "      <td>0.015951</td>\n",
       "      <td>...</td>\n",
       "      <td>0.001687</td>\n",
       "      <td>0.004820</td>\n",
       "      <td>-0.012261</td>\n",
       "      <td>-0.005894</td>\n",
       "      <td>-0.012558</td>\n",
       "      <td>-0.016370</td>\n",
       "      <td>0.005689</td>\n",
       "      <td>-0.019218</td>\n",
       "      <td>-0.018155</td>\n",
       "      <td>-0.000470</td>\n",
       "    </tr>\n",
       "    <tr>\n",
       "      <th>ve</th>\n",
       "      <td>0.019905</td>\n",
       "      <td>0.011222</td>\n",
       "      <td>0.004693</td>\n",
       "      <td>-0.017146</td>\n",
       "      <td>0.016465</td>\n",
       "      <td>-0.018476</td>\n",
       "      <td>0.017416</td>\n",
       "      <td>0.000714</td>\n",
       "      <td>-0.016179</td>\n",
       "      <td>-0.008712</td>\n",
       "      <td>...</td>\n",
       "      <td>0.001208</td>\n",
       "      <td>0.016589</td>\n",
       "      <td>-0.011805</td>\n",
       "      <td>-0.001572</td>\n",
       "      <td>-0.013577</td>\n",
       "      <td>-0.006337</td>\n",
       "      <td>-0.000081</td>\n",
       "      <td>0.004827</td>\n",
       "      <td>0.018536</td>\n",
       "      <td>-0.009323</td>\n",
       "    </tr>\n",
       "    <tr>\n",
       "      <th>malvada</th>\n",
       "      <td>0.019068</td>\n",
       "      <td>0.008816</td>\n",
       "      <td>0.012132</td>\n",
       "      <td>0.011916</td>\n",
       "      <td>-0.005423</td>\n",
       "      <td>-0.013679</td>\n",
       "      <td>0.015827</td>\n",
       "      <td>0.005980</td>\n",
       "      <td>-0.016278</td>\n",
       "      <td>-0.019169</td>\n",
       "      <td>...</td>\n",
       "      <td>0.016391</td>\n",
       "      <td>0.014056</td>\n",
       "      <td>0.005051</td>\n",
       "      <td>-0.014689</td>\n",
       "      <td>0.000892</td>\n",
       "      <td>0.013717</td>\n",
       "      <td>0.009495</td>\n",
       "      <td>0.002436</td>\n",
       "      <td>-0.019465</td>\n",
       "      <td>-0.005406</td>\n",
       "    </tr>\n",
       "    <tr>\n",
       "      <th>madrastra</th>\n",
       "      <td>0.005682</td>\n",
       "      <td>0.005989</td>\n",
       "      <td>-0.006692</td>\n",
       "      <td>-0.006103</td>\n",
       "      <td>0.006884</td>\n",
       "      <td>-0.000432</td>\n",
       "      <td>0.013382</td>\n",
       "      <td>-0.012012</td>\n",
       "      <td>0.015713</td>\n",
       "      <td>-0.000592</td>\n",
       "      <td>...</td>\n",
       "      <td>0.005850</td>\n",
       "      <td>-0.015177</td>\n",
       "      <td>-0.008947</td>\n",
       "      <td>0.014930</td>\n",
       "      <td>-0.010599</td>\n",
       "      <td>0.001069</td>\n",
       "      <td>0.012130</td>\n",
       "      <td>-0.004015</td>\n",
       "      <td>-0.009429</td>\n",
       "      <td>-0.017889</td>\n",
       "    </tr>\n",
       "    <tr>\n",
       "      <th>reina</th>\n",
       "      <td>0.004743</td>\n",
       "      <td>0.014058</td>\n",
       "      <td>-0.010188</td>\n",
       "      <td>-0.012366</td>\n",
       "      <td>0.006492</td>\n",
       "      <td>0.005403</td>\n",
       "      <td>0.003197</td>\n",
       "      <td>0.016511</td>\n",
       "      <td>-0.004307</td>\n",
       "      <td>-0.007022</td>\n",
       "      <td>...</td>\n",
       "      <td>0.005889</td>\n",
       "      <td>0.000958</td>\n",
       "      <td>0.002130</td>\n",
       "      <td>0.016423</td>\n",
       "      <td>-0.004970</td>\n",
       "      <td>-0.010016</td>\n",
       "      <td>0.013792</td>\n",
       "      <td>0.017653</td>\n",
       "      <td>-0.008353</td>\n",
       "      <td>0.011436</td>\n",
       "    </tr>\n",
       "    <tr>\n",
       "      <th>...</th>\n",
       "      <td>...</td>\n",
       "      <td>...</td>\n",
       "      <td>...</td>\n",
       "      <td>...</td>\n",
       "      <td>...</td>\n",
       "      <td>...</td>\n",
       "      <td>...</td>\n",
       "      <td>...</td>\n",
       "      <td>...</td>\n",
       "      <td>...</td>\n",
       "      <td>...</td>\n",
       "      <td>...</td>\n",
       "      <td>...</td>\n",
       "      <td>...</td>\n",
       "      <td>...</td>\n",
       "      <td>...</td>\n",
       "      <td>...</td>\n",
       "      <td>...</td>\n",
       "      <td>...</td>\n",
       "      <td>...</td>\n",
       "      <td>...</td>\n",
       "    </tr>\n",
       "    <tr>\n",
       "      <th>vez</th>\n",
       "      <td>0.015309</td>\n",
       "      <td>-0.004010</td>\n",
       "      <td>-0.013734</td>\n",
       "      <td>-0.017806</td>\n",
       "      <td>0.007515</td>\n",
       "      <td>-0.014450</td>\n",
       "      <td>0.002488</td>\n",
       "      <td>0.002278</td>\n",
       "      <td>0.006809</td>\n",
       "      <td>-0.013491</td>\n",
       "      <td>...</td>\n",
       "      <td>0.008644</td>\n",
       "      <td>-0.016405</td>\n",
       "      <td>0.018599</td>\n",
       "      <td>-0.016123</td>\n",
       "      <td>-0.010876</td>\n",
       "      <td>0.013008</td>\n",
       "      <td>-0.000477</td>\n",
       "      <td>-0.003440</td>\n",
       "      <td>-0.019252</td>\n",
       "      <td>0.004360</td>\n",
       "    </tr>\n",
       "    <tr>\n",
       "      <th>pocahontas</th>\n",
       "      <td>-0.018370</td>\n",
       "      <td>0.017518</td>\n",
       "      <td>-0.010588</td>\n",
       "      <td>-0.012837</td>\n",
       "      <td>0.013320</td>\n",
       "      <td>0.009899</td>\n",
       "      <td>-0.011426</td>\n",
       "      <td>-0.002093</td>\n",
       "      <td>-0.000681</td>\n",
       "      <td>-0.007180</td>\n",
       "      <td>...</td>\n",
       "      <td>-0.008124</td>\n",
       "      <td>-0.010944</td>\n",
       "      <td>-0.007541</td>\n",
       "      <td>0.003342</td>\n",
       "      <td>0.019446</td>\n",
       "      <td>0.010297</td>\n",
       "      <td>0.005201</td>\n",
       "      <td>0.007813</td>\n",
       "      <td>0.013933</td>\n",
       "      <td>0.018161</td>\n",
       "    </tr>\n",
       "    <tr>\n",
       "      <th>años</th>\n",
       "      <td>0.010771</td>\n",
       "      <td>0.013809</td>\n",
       "      <td>0.019246</td>\n",
       "      <td>-0.004608</td>\n",
       "      <td>0.000079</td>\n",
       "      <td>0.010748</td>\n",
       "      <td>0.002256</td>\n",
       "      <td>0.008802</td>\n",
       "      <td>-0.002796</td>\n",
       "      <td>0.015714</td>\n",
       "      <td>...</td>\n",
       "      <td>-0.000792</td>\n",
       "      <td>-0.005433</td>\n",
       "      <td>0.018178</td>\n",
       "      <td>-0.016988</td>\n",
       "      <td>-0.000083</td>\n",
       "      <td>0.006390</td>\n",
       "      <td>0.003381</td>\n",
       "      <td>-0.016469</td>\n",
       "      <td>0.007545</td>\n",
       "      <td>-0.016713</td>\n",
       "    </tr>\n",
       "    <tr>\n",
       "      <th>mérida</th>\n",
       "      <td>0.006893</td>\n",
       "      <td>-0.010028</td>\n",
       "      <td>-0.010113</td>\n",
       "      <td>-0.002319</td>\n",
       "      <td>-0.004355</td>\n",
       "      <td>-0.009040</td>\n",
       "      <td>0.005589</td>\n",
       "      <td>-0.007135</td>\n",
       "      <td>-0.013869</td>\n",
       "      <td>-0.016733</td>\n",
       "      <td>...</td>\n",
       "      <td>0.001676</td>\n",
       "      <td>-0.010752</td>\n",
       "      <td>-0.016880</td>\n",
       "      <td>0.008300</td>\n",
       "      <td>0.008662</td>\n",
       "      <td>0.009861</td>\n",
       "      <td>-0.017943</td>\n",
       "      <td>-0.014255</td>\n",
       "      <td>-0.010092</td>\n",
       "      <td>-0.017972</td>\n",
       "    </tr>\n",
       "    <tr>\n",
       "      <th>pixar</th>\n",
       "      <td>-0.002183</td>\n",
       "      <td>-0.015193</td>\n",
       "      <td>0.013418</td>\n",
       "      <td>0.005147</td>\n",
       "      <td>0.019370</td>\n",
       "      <td>-0.013613</td>\n",
       "      <td>-0.007019</td>\n",
       "      <td>-0.010819</td>\n",
       "      <td>0.014567</td>\n",
       "      <td>0.012452</td>\n",
       "      <td>...</td>\n",
       "      <td>0.010816</td>\n",
       "      <td>-0.000652</td>\n",
       "      <td>0.015001</td>\n",
       "      <td>0.018966</td>\n",
       "      <td>0.018319</td>\n",
       "      <td>-0.016063</td>\n",
       "      <td>0.002668</td>\n",
       "      <td>-0.010498</td>\n",
       "      <td>-0.008666</td>\n",
       "      <td>0.016514</td>\n",
       "    </tr>\n",
       "  </tbody>\n",
       "</table>\n",
       "<p>66 rows × 25 columns</p>\n",
       "</div>"
      ],
      "text/plain": [
       "                  0         1         2         3         4         5   \\\n",
       "princesa    0.016408 -0.005344  0.014504 -0.018930  0.008186  0.007692   \n",
       "ve          0.019905  0.011222  0.004693 -0.017146  0.016465 -0.018476   \n",
       "malvada     0.019068  0.008816  0.012132  0.011916 -0.005423 -0.013679   \n",
       "madrastra   0.005682  0.005989 -0.006692 -0.006103  0.006884 -0.000432   \n",
       "reina       0.004743  0.014058 -0.010188 -0.012366  0.006492  0.005403   \n",
       "...              ...       ...       ...       ...       ...       ...   \n",
       "vez         0.015309 -0.004010 -0.013734 -0.017806  0.007515 -0.014450   \n",
       "pocahontas -0.018370  0.017518 -0.010588 -0.012837  0.013320  0.009899   \n",
       "años        0.010771  0.013809  0.019246 -0.004608  0.000079  0.010748   \n",
       "mérida      0.006893 -0.010028 -0.010113 -0.002319 -0.004355 -0.009040   \n",
       "pixar      -0.002183 -0.015193  0.013418  0.005147  0.019370 -0.013613   \n",
       "\n",
       "                  6         7         8         9   ...        15        16  \\\n",
       "princesa   -0.000383  0.003643 -0.011625  0.015951  ...  0.001687  0.004820   \n",
       "ve          0.017416  0.000714 -0.016179 -0.008712  ...  0.001208  0.016589   \n",
       "malvada     0.015827  0.005980 -0.016278 -0.019169  ...  0.016391  0.014056   \n",
       "madrastra   0.013382 -0.012012  0.015713 -0.000592  ...  0.005850 -0.015177   \n",
       "reina       0.003197  0.016511 -0.004307 -0.007022  ...  0.005889  0.000958   \n",
       "...              ...       ...       ...       ...  ...       ...       ...   \n",
       "vez         0.002488  0.002278  0.006809 -0.013491  ...  0.008644 -0.016405   \n",
       "pocahontas -0.011426 -0.002093 -0.000681 -0.007180  ... -0.008124 -0.010944   \n",
       "años        0.002256  0.008802 -0.002796  0.015714  ... -0.000792 -0.005433   \n",
       "mérida      0.005589 -0.007135 -0.013869 -0.016733  ...  0.001676 -0.010752   \n",
       "pixar      -0.007019 -0.010819  0.014567  0.012452  ...  0.010816 -0.000652   \n",
       "\n",
       "                  17        18        19        20        21        22  \\\n",
       "princesa   -0.012261 -0.005894 -0.012558 -0.016370  0.005689 -0.019218   \n",
       "ve         -0.011805 -0.001572 -0.013577 -0.006337 -0.000081  0.004827   \n",
       "malvada     0.005051 -0.014689  0.000892  0.013717  0.009495  0.002436   \n",
       "madrastra  -0.008947  0.014930 -0.010599  0.001069  0.012130 -0.004015   \n",
       "reina       0.002130  0.016423 -0.004970 -0.010016  0.013792  0.017653   \n",
       "...              ...       ...       ...       ...       ...       ...   \n",
       "vez         0.018599 -0.016123 -0.010876  0.013008 -0.000477 -0.003440   \n",
       "pocahontas -0.007541  0.003342  0.019446  0.010297  0.005201  0.007813   \n",
       "años        0.018178 -0.016988 -0.000083  0.006390  0.003381 -0.016469   \n",
       "mérida     -0.016880  0.008300  0.008662  0.009861 -0.017943 -0.014255   \n",
       "pixar       0.015001  0.018966  0.018319 -0.016063  0.002668 -0.010498   \n",
       "\n",
       "                  23        24  \n",
       "princesa   -0.018155 -0.000470  \n",
       "ve          0.018536 -0.009323  \n",
       "malvada    -0.019465 -0.005406  \n",
       "madrastra  -0.009429 -0.017889  \n",
       "reina      -0.008353  0.011436  \n",
       "...              ...       ...  \n",
       "vez        -0.019252  0.004360  \n",
       "pocahontas  0.013933  0.018161  \n",
       "años        0.007545 -0.016713  \n",
       "mérida     -0.010092 -0.017972  \n",
       "pixar      -0.008666  0.016514  \n",
       "\n",
       "[66 rows x 25 columns]"
      ]
     },
     "execution_count": 67,
     "metadata": {},
     "output_type": "execute_result"
    }
   ],
   "source": [
    "X = mi_modelo[mi_modelo.wv.vocab]\n",
    "matrix = pd.DataFrame(X)\n",
    "matrix.index = mi_modelo.wv.vocab.keys()\n",
    "\n",
    " \n",
    "\n",
    "matrix"
   ]
  },
  {
   "cell_type": "code",
   "execution_count": 62,
   "metadata": {},
   "outputs": [
    {
     "data": {
      "text/html": [
       "<div>\n",
       "<style scoped>\n",
       "    .dataframe tbody tr th:only-of-type {\n",
       "        vertical-align: middle;\n",
       "    }\n",
       "\n",
       "    .dataframe tbody tr th {\n",
       "        vertical-align: top;\n",
       "    }\n",
       "\n",
       "    .dataframe thead th {\n",
       "        text-align: right;\n",
       "    }\n",
       "</style>\n",
       "<table border=\"1\" class=\"dataframe\">\n",
       "  <thead>\n",
       "    <tr style=\"text-align: right;\">\n",
       "      <th></th>\n",
       "      <th>X</th>\n",
       "      <th>Y</th>\n",
       "      <th>Palabra</th>\n",
       "    </tr>\n",
       "  </thead>\n",
       "  <tbody>\n",
       "    <tr>\n",
       "      <th>0</th>\n",
       "      <td>-0.008261</td>\n",
       "      <td>0.004815</td>\n",
       "      <td>princesa</td>\n",
       "    </tr>\n",
       "    <tr>\n",
       "      <th>1</th>\n",
       "      <td>-0.003142</td>\n",
       "      <td>-0.014537</td>\n",
       "      <td>ve</td>\n",
       "    </tr>\n",
       "    <tr>\n",
       "      <th>2</th>\n",
       "      <td>0.021820</td>\n",
       "      <td>0.006663</td>\n",
       "      <td>malvada</td>\n",
       "    </tr>\n",
       "    <tr>\n",
       "      <th>3</th>\n",
       "      <td>0.024343</td>\n",
       "      <td>0.022014</td>\n",
       "      <td>madrastra</td>\n",
       "    </tr>\n",
       "    <tr>\n",
       "      <th>4</th>\n",
       "      <td>0.013149</td>\n",
       "      <td>0.007973</td>\n",
       "      <td>reina</td>\n",
       "    </tr>\n",
       "    <tr>\n",
       "      <th>...</th>\n",
       "      <td>...</td>\n",
       "      <td>...</td>\n",
       "      <td>...</td>\n",
       "    </tr>\n",
       "    <tr>\n",
       "      <th>61</th>\n",
       "      <td>0.029808</td>\n",
       "      <td>0.012200</td>\n",
       "      <td>vez</td>\n",
       "    </tr>\n",
       "    <tr>\n",
       "      <th>62</th>\n",
       "      <td>0.000820</td>\n",
       "      <td>-0.022556</td>\n",
       "      <td>pocahontas</td>\n",
       "    </tr>\n",
       "    <tr>\n",
       "      <th>63</th>\n",
       "      <td>-0.010431</td>\n",
       "      <td>0.005374</td>\n",
       "      <td>años</td>\n",
       "    </tr>\n",
       "    <tr>\n",
       "      <th>64</th>\n",
       "      <td>0.012042</td>\n",
       "      <td>0.013378</td>\n",
       "      <td>mérida</td>\n",
       "    </tr>\n",
       "    <tr>\n",
       "      <th>65</th>\n",
       "      <td>0.012992</td>\n",
       "      <td>-0.019419</td>\n",
       "      <td>pixar</td>\n",
       "    </tr>\n",
       "  </tbody>\n",
       "</table>\n",
       "<p>66 rows × 3 columns</p>\n",
       "</div>"
      ],
      "text/plain": [
       "           X         Y     Palabra\n",
       "0  -0.008261  0.004815    princesa\n",
       "1  -0.003142 -0.014537          ve\n",
       "2   0.021820  0.006663     malvada\n",
       "3   0.024343  0.022014   madrastra\n",
       "4   0.013149  0.007973       reina\n",
       "..       ...       ...         ...\n",
       "61  0.029808  0.012200         vez\n",
       "62  0.000820 -0.022556  pocahontas\n",
       "63 -0.010431  0.005374        años\n",
       "64  0.012042  0.013378      mérida\n",
       "65  0.012992 -0.019419       pixar\n",
       "\n",
       "[66 rows x 3 columns]"
      ]
     },
     "execution_count": 62,
     "metadata": {},
     "output_type": "execute_result"
    }
   ],
   "source": [
    "pca = PCA(n_components=2)\n",
    "\n",
    " \n",
    "\n",
    "result = pca.fit_transform(matrix)\n",
    "result = pd.DataFrame(result)\n",
    "result.columns = ['X', 'Y']\n",
    "result['Palabra'] = matrix.index.values\n",
    "\n",
    " \n",
    "\n",
    "result"
   ]
  },
  {
   "cell_type": "code",
   "execution_count": 68,
   "metadata": {},
   "outputs": [
    {
     "data": {
      "application/vnd.plotly.v1+json": {
       "config": {
        "linkText": "Export to plot.ly",
        "plotlyServerURL": "https://plot.ly",
        "showLink": false
       },
       "data": [
        {
         "mode": "markers",
         "text": [
          "princesa",
          "ve",
          "malvada",
          "madrastra",
          "reina",
          "grimhilde",
          "ingenua",
          "nunca",
          "verdadero",
          "amor",
          "algún",
          "día",
          "sigue",
          "amable",
          "siempre",
          "cosas",
          "ayudar",
          "gente",
          "naturaleza",
          "corazón",
          "hace",
          "si",
          "puede",
          "después",
          "lado",
          "través",
          "persona",
          "gran",
          "lugar",
          "cenicienta",
          "dos",
          "aunque",
          "mantiene",
          "sueños",
          "realidad",
          "llega",
          "presenta",
          "película",
          "príncipe",
          "vista",
          "aurora",
          "bella",
          "durmiente",
          "hija",
          "hadas",
          "padre",
          "nombre",
          "largo",
          "tías",
          "así",
          "joven",
          "mundo",
          "ser",
          "misma",
          "nuevo",
          "primera",
          "segura",
          "propia",
          "aventura",
          "pueblo",
          "mujer",
          "vez",
          "pocahontas",
          "años",
          "mérida",
          "pixar"
         ],
         "type": "scatter",
         "x": [
          -0.008260516449809074,
          -0.003142390865832567,
          0.021819839254021645,
          0.024343231692910194,
          0.013148986734449863,
          0.010745257139205933,
          0.001768748858012259,
          -0.034477658569812775,
          -0.004524955525994301,
          -0.009370810352265835,
          -0.010240869596600533,
          0.011472394689917564,
          0.030065992847085,
          0.012599634006619453,
          0.004995173774659634,
          0.01290434692054987,
          -0.019910559058189392,
          0.001993634505197406,
          0.010105782188475132,
          -0.009762817993760109,
          -0.0037597566843032837,
          0.007069723214954138,
          0.0038599553517997265,
          -0.019494691863656044,
          0.028844673186540604,
          0.004143957048654556,
          -0.003917882218956947,
          -0.01145400945097208,
          0.00824598129838705,
          -0.027158837765455246,
          -0.012590440921485424,
          -0.030692320317029953,
          -0.032875582575798035,
          0.022166291251778603,
          -0.016292771324515343,
          -0.002825636649504304,
          0.004505230113863945,
          -0.03971119970083237,
          0.03251529857516289,
          -0.014224112033843994,
          -0.02098856121301651,
          0.018436303362250328,
          0.04247394949197769,
          -0.029838789254426956,
          0.03303751349449158,
          -0.026816558092832565,
          -0.00045127037446945906,
          0.002270097378641367,
          0.006937826983630657,
          0.012488358654081821,
          0.0256109107285738,
          -0.02410091832280159,
          -0.010320445522665977,
          0.011382530443370342,
          0.017689015716314316,
          0.004923629108816385,
          -0.018903285264968872,
          -0.007346444763243198,
          -0.02416960336267948,
          -0.02600705809891224,
          0.015835456550121307,
          0.029807845130562782,
          0.0008195184636861086,
          -0.010430620983242989,
          0.012042252346873283,
          0.012992012314498425
         ],
         "y": [
          0.004814823158085346,
          -0.014537084847688675,
          0.00666255597025156,
          0.02201446145772934,
          0.00797346606850624,
          0.020619360730051994,
          0.001984979258850217,
          0.0018541739555075765,
          -0.040360499173402786,
          0.0184265598654747,
          -0.0033298979979008436,
          -0.015208846889436245,
          0.01026258897036314,
          0.007727724965661764,
          -0.008108851499855518,
          0.008043094538152218,
          0.001384105533361435,
          0.015591957606375217,
          -0.014514111913740635,
          0.0004502740048337728,
          0.021495630964636803,
          -0.03669632226228714,
          -0.019270034506917,
          -0.01987392269074917,
          0.01159654464572668,
          0.005751166958361864,
          0.0057511767372488976,
          0.03917667269706726,
          -0.02554505504667759,
          -0.008069905452430248,
          0.021884115412831306,
          -0.00694102281704545,
          0.014652340672910213,
          0.01719026081264019,
          0.012805855832993984,
          -0.008149784058332443,
          -0.01600061170756817,
          0.008630595169961452,
          -0.006851813290268183,
          0.01841118559241295,
          -0.0041456930339336395,
          -0.02302493527531624,
          -0.0048204027116298676,
          -0.013022863306105137,
          -0.001981170615181327,
          -0.012018258683383465,
          0.047906674444675446,
          -0.024701187387108803,
          0.012390430085361004,
          0.01690099574625492,
          0.012075020931661129,
          0.004682513419538736,
          0.01021299883723259,
          0.009685195982456207,
          -0.021752219647169113,
          -0.0030517408158630133,
          -0.001994819613173604,
          -0.018848465755581856,
          0.004555237013846636,
          -0.011387662030756474,
          -0.028334535658359528,
          0.012200229801237583,
          -0.022556066513061523,
          0.005373993422836065,
          0.01337801106274128,
          -0.01941921003162861
         ]
        }
       ],
       "layout": {
        "template": {
         "data": {
          "bar": [
           {
            "error_x": {
             "color": "#2a3f5f"
            },
            "error_y": {
             "color": "#2a3f5f"
            },
            "marker": {
             "line": {
              "color": "#E5ECF6",
              "width": 0.5
             }
            },
            "type": "bar"
           }
          ],
          "barpolar": [
           {
            "marker": {
             "line": {
              "color": "#E5ECF6",
              "width": 0.5
             }
            },
            "type": "barpolar"
           }
          ],
          "carpet": [
           {
            "aaxis": {
             "endlinecolor": "#2a3f5f",
             "gridcolor": "white",
             "linecolor": "white",
             "minorgridcolor": "white",
             "startlinecolor": "#2a3f5f"
            },
            "baxis": {
             "endlinecolor": "#2a3f5f",
             "gridcolor": "white",
             "linecolor": "white",
             "minorgridcolor": "white",
             "startlinecolor": "#2a3f5f"
            },
            "type": "carpet"
           }
          ],
          "choropleth": [
           {
            "colorbar": {
             "outlinewidth": 0,
             "ticks": ""
            },
            "type": "choropleth"
           }
          ],
          "contour": [
           {
            "colorbar": {
             "outlinewidth": 0,
             "ticks": ""
            },
            "colorscale": [
             [
              0,
              "#0d0887"
             ],
             [
              0.1111111111111111,
              "#46039f"
             ],
             [
              0.2222222222222222,
              "#7201a8"
             ],
             [
              0.3333333333333333,
              "#9c179e"
             ],
             [
              0.4444444444444444,
              "#bd3786"
             ],
             [
              0.5555555555555556,
              "#d8576b"
             ],
             [
              0.6666666666666666,
              "#ed7953"
             ],
             [
              0.7777777777777778,
              "#fb9f3a"
             ],
             [
              0.8888888888888888,
              "#fdca26"
             ],
             [
              1,
              "#f0f921"
             ]
            ],
            "type": "contour"
           }
          ],
          "contourcarpet": [
           {
            "colorbar": {
             "outlinewidth": 0,
             "ticks": ""
            },
            "type": "contourcarpet"
           }
          ],
          "heatmap": [
           {
            "colorbar": {
             "outlinewidth": 0,
             "ticks": ""
            },
            "colorscale": [
             [
              0,
              "#0d0887"
             ],
             [
              0.1111111111111111,
              "#46039f"
             ],
             [
              0.2222222222222222,
              "#7201a8"
             ],
             [
              0.3333333333333333,
              "#9c179e"
             ],
             [
              0.4444444444444444,
              "#bd3786"
             ],
             [
              0.5555555555555556,
              "#d8576b"
             ],
             [
              0.6666666666666666,
              "#ed7953"
             ],
             [
              0.7777777777777778,
              "#fb9f3a"
             ],
             [
              0.8888888888888888,
              "#fdca26"
             ],
             [
              1,
              "#f0f921"
             ]
            ],
            "type": "heatmap"
           }
          ],
          "heatmapgl": [
           {
            "colorbar": {
             "outlinewidth": 0,
             "ticks": ""
            },
            "colorscale": [
             [
              0,
              "#0d0887"
             ],
             [
              0.1111111111111111,
              "#46039f"
             ],
             [
              0.2222222222222222,
              "#7201a8"
             ],
             [
              0.3333333333333333,
              "#9c179e"
             ],
             [
              0.4444444444444444,
              "#bd3786"
             ],
             [
              0.5555555555555556,
              "#d8576b"
             ],
             [
              0.6666666666666666,
              "#ed7953"
             ],
             [
              0.7777777777777778,
              "#fb9f3a"
             ],
             [
              0.8888888888888888,
              "#fdca26"
             ],
             [
              1,
              "#f0f921"
             ]
            ],
            "type": "heatmapgl"
           }
          ],
          "histogram": [
           {
            "marker": {
             "colorbar": {
              "outlinewidth": 0,
              "ticks": ""
             }
            },
            "type": "histogram"
           }
          ],
          "histogram2d": [
           {
            "colorbar": {
             "outlinewidth": 0,
             "ticks": ""
            },
            "colorscale": [
             [
              0,
              "#0d0887"
             ],
             [
              0.1111111111111111,
              "#46039f"
             ],
             [
              0.2222222222222222,
              "#7201a8"
             ],
             [
              0.3333333333333333,
              "#9c179e"
             ],
             [
              0.4444444444444444,
              "#bd3786"
             ],
             [
              0.5555555555555556,
              "#d8576b"
             ],
             [
              0.6666666666666666,
              "#ed7953"
             ],
             [
              0.7777777777777778,
              "#fb9f3a"
             ],
             [
              0.8888888888888888,
              "#fdca26"
             ],
             [
              1,
              "#f0f921"
             ]
            ],
            "type": "histogram2d"
           }
          ],
          "histogram2dcontour": [
           {
            "colorbar": {
             "outlinewidth": 0,
             "ticks": ""
            },
            "colorscale": [
             [
              0,
              "#0d0887"
             ],
             [
              0.1111111111111111,
              "#46039f"
             ],
             [
              0.2222222222222222,
              "#7201a8"
             ],
             [
              0.3333333333333333,
              "#9c179e"
             ],
             [
              0.4444444444444444,
              "#bd3786"
             ],
             [
              0.5555555555555556,
              "#d8576b"
             ],
             [
              0.6666666666666666,
              "#ed7953"
             ],
             [
              0.7777777777777778,
              "#fb9f3a"
             ],
             [
              0.8888888888888888,
              "#fdca26"
             ],
             [
              1,
              "#f0f921"
             ]
            ],
            "type": "histogram2dcontour"
           }
          ],
          "mesh3d": [
           {
            "colorbar": {
             "outlinewidth": 0,
             "ticks": ""
            },
            "type": "mesh3d"
           }
          ],
          "parcoords": [
           {
            "line": {
             "colorbar": {
              "outlinewidth": 0,
              "ticks": ""
             }
            },
            "type": "parcoords"
           }
          ],
          "pie": [
           {
            "automargin": true,
            "type": "pie"
           }
          ],
          "scatter": [
           {
            "marker": {
             "colorbar": {
              "outlinewidth": 0,
              "ticks": ""
             }
            },
            "type": "scatter"
           }
          ],
          "scatter3d": [
           {
            "line": {
             "colorbar": {
              "outlinewidth": 0,
              "ticks": ""
             }
            },
            "marker": {
             "colorbar": {
              "outlinewidth": 0,
              "ticks": ""
             }
            },
            "type": "scatter3d"
           }
          ],
          "scattercarpet": [
           {
            "marker": {
             "colorbar": {
              "outlinewidth": 0,
              "ticks": ""
             }
            },
            "type": "scattercarpet"
           }
          ],
          "scattergeo": [
           {
            "marker": {
             "colorbar": {
              "outlinewidth": 0,
              "ticks": ""
             }
            },
            "type": "scattergeo"
           }
          ],
          "scattergl": [
           {
            "marker": {
             "colorbar": {
              "outlinewidth": 0,
              "ticks": ""
             }
            },
            "type": "scattergl"
           }
          ],
          "scattermapbox": [
           {
            "marker": {
             "colorbar": {
              "outlinewidth": 0,
              "ticks": ""
             }
            },
            "type": "scattermapbox"
           }
          ],
          "scatterpolar": [
           {
            "marker": {
             "colorbar": {
              "outlinewidth": 0,
              "ticks": ""
             }
            },
            "type": "scatterpolar"
           }
          ],
          "scatterpolargl": [
           {
            "marker": {
             "colorbar": {
              "outlinewidth": 0,
              "ticks": ""
             }
            },
            "type": "scatterpolargl"
           }
          ],
          "scatterternary": [
           {
            "marker": {
             "colorbar": {
              "outlinewidth": 0,
              "ticks": ""
             }
            },
            "type": "scatterternary"
           }
          ],
          "surface": [
           {
            "colorbar": {
             "outlinewidth": 0,
             "ticks": ""
            },
            "colorscale": [
             [
              0,
              "#0d0887"
             ],
             [
              0.1111111111111111,
              "#46039f"
             ],
             [
              0.2222222222222222,
              "#7201a8"
             ],
             [
              0.3333333333333333,
              "#9c179e"
             ],
             [
              0.4444444444444444,
              "#bd3786"
             ],
             [
              0.5555555555555556,
              "#d8576b"
             ],
             [
              0.6666666666666666,
              "#ed7953"
             ],
             [
              0.7777777777777778,
              "#fb9f3a"
             ],
             [
              0.8888888888888888,
              "#fdca26"
             ],
             [
              1,
              "#f0f921"
             ]
            ],
            "type": "surface"
           }
          ],
          "table": [
           {
            "cells": {
             "fill": {
              "color": "#EBF0F8"
             },
             "line": {
              "color": "white"
             }
            },
            "header": {
             "fill": {
              "color": "#C8D4E3"
             },
             "line": {
              "color": "white"
             }
            },
            "type": "table"
           }
          ]
         },
         "layout": {
          "annotationdefaults": {
           "arrowcolor": "#2a3f5f",
           "arrowhead": 0,
           "arrowwidth": 1
          },
          "coloraxis": {
           "colorbar": {
            "outlinewidth": 0,
            "ticks": ""
           }
          },
          "colorscale": {
           "diverging": [
            [
             0,
             "#8e0152"
            ],
            [
             0.1,
             "#c51b7d"
            ],
            [
             0.2,
             "#de77ae"
            ],
            [
             0.3,
             "#f1b6da"
            ],
            [
             0.4,
             "#fde0ef"
            ],
            [
             0.5,
             "#f7f7f7"
            ],
            [
             0.6,
             "#e6f5d0"
            ],
            [
             0.7,
             "#b8e186"
            ],
            [
             0.8,
             "#7fbc41"
            ],
            [
             0.9,
             "#4d9221"
            ],
            [
             1,
             "#276419"
            ]
           ],
           "sequential": [
            [
             0,
             "#0d0887"
            ],
            [
             0.1111111111111111,
             "#46039f"
            ],
            [
             0.2222222222222222,
             "#7201a8"
            ],
            [
             0.3333333333333333,
             "#9c179e"
            ],
            [
             0.4444444444444444,
             "#bd3786"
            ],
            [
             0.5555555555555556,
             "#d8576b"
            ],
            [
             0.6666666666666666,
             "#ed7953"
            ],
            [
             0.7777777777777778,
             "#fb9f3a"
            ],
            [
             0.8888888888888888,
             "#fdca26"
            ],
            [
             1,
             "#f0f921"
            ]
           ],
           "sequentialminus": [
            [
             0,
             "#0d0887"
            ],
            [
             0.1111111111111111,
             "#46039f"
            ],
            [
             0.2222222222222222,
             "#7201a8"
            ],
            [
             0.3333333333333333,
             "#9c179e"
            ],
            [
             0.4444444444444444,
             "#bd3786"
            ],
            [
             0.5555555555555556,
             "#d8576b"
            ],
            [
             0.6666666666666666,
             "#ed7953"
            ],
            [
             0.7777777777777778,
             "#fb9f3a"
            ],
            [
             0.8888888888888888,
             "#fdca26"
            ],
            [
             1,
             "#f0f921"
            ]
           ]
          },
          "colorway": [
           "#636efa",
           "#EF553B",
           "#00cc96",
           "#ab63fa",
           "#FFA15A",
           "#19d3f3",
           "#FF6692",
           "#B6E880",
           "#FF97FF",
           "#FECB52"
          ],
          "font": {
           "color": "#2a3f5f"
          },
          "geo": {
           "bgcolor": "white",
           "lakecolor": "white",
           "landcolor": "#E5ECF6",
           "showlakes": true,
           "showland": true,
           "subunitcolor": "white"
          },
          "hoverlabel": {
           "align": "left"
          },
          "hovermode": "closest",
          "mapbox": {
           "style": "light"
          },
          "paper_bgcolor": "white",
          "plot_bgcolor": "#E5ECF6",
          "polar": {
           "angularaxis": {
            "gridcolor": "white",
            "linecolor": "white",
            "ticks": ""
           },
           "bgcolor": "#E5ECF6",
           "radialaxis": {
            "gridcolor": "white",
            "linecolor": "white",
            "ticks": ""
           }
          },
          "scene": {
           "xaxis": {
            "backgroundcolor": "#E5ECF6",
            "gridcolor": "white",
            "gridwidth": 2,
            "linecolor": "white",
            "showbackground": true,
            "ticks": "",
            "zerolinecolor": "white"
           },
           "yaxis": {
            "backgroundcolor": "#E5ECF6",
            "gridcolor": "white",
            "gridwidth": 2,
            "linecolor": "white",
            "showbackground": true,
            "ticks": "",
            "zerolinecolor": "white"
           },
           "zaxis": {
            "backgroundcolor": "#E5ECF6",
            "gridcolor": "white",
            "gridwidth": 2,
            "linecolor": "white",
            "showbackground": true,
            "ticks": "",
            "zerolinecolor": "white"
           }
          },
          "shapedefaults": {
           "line": {
            "color": "#2a3f5f"
           }
          },
          "ternary": {
           "aaxis": {
            "gridcolor": "white",
            "linecolor": "white",
            "ticks": ""
           },
           "baxis": {
            "gridcolor": "white",
            "linecolor": "white",
            "ticks": ""
           },
           "bgcolor": "#E5ECF6",
           "caxis": {
            "gridcolor": "white",
            "linecolor": "white",
            "ticks": ""
           }
          },
          "title": {
           "x": 0.05
          },
          "xaxis": {
           "automargin": true,
           "gridcolor": "white",
           "linecolor": "white",
           "ticks": "",
           "title": {
            "standoff": 15
           },
           "zerolinecolor": "white",
           "zerolinewidth": 2
          },
          "yaxis": {
           "automargin": true,
           "gridcolor": "white",
           "linecolor": "white",
           "ticks": "",
           "title": {
            "standoff": 15
           },
           "zerolinecolor": "white",
           "zerolinewidth": 2
          }
         }
        },
        "title": {
         "text": "PCA"
        }
       }
      },
      "text/html": [
       "<div>                            <div id=\"f5090cb5-2f7e-42f6-90fb-c3df6d17ea9c\" class=\"plotly-graph-div\" style=\"height:525px; width:100%;\"></div>            <script type=\"text/javascript\">                require([\"plotly\"], function(Plotly) {                    window.PLOTLYENV=window.PLOTLYENV || {};                                    if (document.getElementById(\"f5090cb5-2f7e-42f6-90fb-c3df6d17ea9c\")) {                    Plotly.newPlot(                        \"f5090cb5-2f7e-42f6-90fb-c3df6d17ea9c\",                        [{\"mode\": \"markers\", \"text\": [\"princesa\", \"ve\", \"malvada\", \"madrastra\", \"reina\", \"grimhilde\", \"ingenua\", \"nunca\", \"verdadero\", \"amor\", \"alg\\u00fan\", \"d\\u00eda\", \"sigue\", \"amable\", \"siempre\", \"cosas\", \"ayudar\", \"gente\", \"naturaleza\", \"coraz\\u00f3n\", \"hace\", \"si\", \"puede\", \"despu\\u00e9s\", \"lado\", \"trav\\u00e9s\", \"persona\", \"gran\", \"lugar\", \"cenicienta\", \"dos\", \"aunque\", \"mantiene\", \"sue\\u00f1os\", \"realidad\", \"llega\", \"presenta\", \"pel\\u00edcula\", \"pr\\u00edncipe\", \"vista\", \"aurora\", \"bella\", \"durmiente\", \"hija\", \"hadas\", \"padre\", \"nombre\", \"largo\", \"t\\u00edas\", \"as\\u00ed\", \"joven\", \"mundo\", \"ser\", \"misma\", \"nuevo\", \"primera\", \"segura\", \"propia\", \"aventura\", \"pueblo\", \"mujer\", \"vez\", \"pocahontas\", \"a\\u00f1os\", \"m\\u00e9rida\", \"pixar\"], \"type\": \"scatter\", \"x\": [-0.008260516449809074, -0.003142390865832567, 0.021819839254021645, 0.024343231692910194, 0.013148986734449863, 0.010745257139205933, 0.001768748858012259, -0.034477658569812775, -0.004524955525994301, -0.009370810352265835, -0.010240869596600533, 0.011472394689917564, 0.030065992847085, 0.012599634006619453, 0.004995173774659634, 0.01290434692054987, -0.019910559058189392, 0.001993634505197406, 0.010105782188475132, -0.009762817993760109, -0.0037597566843032837, 0.007069723214954138, 0.0038599553517997265, -0.019494691863656044, 0.028844673186540604, 0.004143957048654556, -0.003917882218956947, -0.01145400945097208, 0.00824598129838705, -0.027158837765455246, -0.012590440921485424, -0.030692320317029953, -0.032875582575798035, 0.022166291251778603, -0.016292771324515343, -0.002825636649504304, 0.004505230113863945, -0.03971119970083237, 0.03251529857516289, -0.014224112033843994, -0.02098856121301651, 0.018436303362250328, 0.04247394949197769, -0.029838789254426956, 0.03303751349449158, -0.026816558092832565, -0.00045127037446945906, 0.002270097378641367, 0.006937826983630657, 0.012488358654081821, 0.0256109107285738, -0.02410091832280159, -0.010320445522665977, 0.011382530443370342, 0.017689015716314316, 0.004923629108816385, -0.018903285264968872, -0.007346444763243198, -0.02416960336267948, -0.02600705809891224, 0.015835456550121307, 0.029807845130562782, 0.0008195184636861086, -0.010430620983242989, 0.012042252346873283, 0.012992012314498425], \"y\": [0.004814823158085346, -0.014537084847688675, 0.00666255597025156, 0.02201446145772934, 0.00797346606850624, 0.020619360730051994, 0.001984979258850217, 0.0018541739555075765, -0.040360499173402786, 0.0184265598654747, -0.0033298979979008436, -0.015208846889436245, 0.01026258897036314, 0.007727724965661764, -0.008108851499855518, 0.008043094538152218, 0.001384105533361435, 0.015591957606375217, -0.014514111913740635, 0.0004502740048337728, 0.021495630964636803, -0.03669632226228714, -0.019270034506917, -0.01987392269074917, 0.01159654464572668, 0.005751166958361864, 0.0057511767372488976, 0.03917667269706726, -0.02554505504667759, -0.008069905452430248, 0.021884115412831306, -0.00694102281704545, 0.014652340672910213, 0.01719026081264019, 0.012805855832993984, -0.008149784058332443, -0.01600061170756817, 0.008630595169961452, -0.006851813290268183, 0.01841118559241295, -0.0041456930339336395, -0.02302493527531624, -0.0048204027116298676, -0.013022863306105137, -0.001981170615181327, -0.012018258683383465, 0.047906674444675446, -0.024701187387108803, 0.012390430085361004, 0.01690099574625492, 0.012075020931661129, 0.004682513419538736, 0.01021299883723259, 0.009685195982456207, -0.021752219647169113, -0.0030517408158630133, -0.001994819613173604, -0.018848465755581856, 0.004555237013846636, -0.011387662030756474, -0.028334535658359528, 0.012200229801237583, -0.022556066513061523, 0.005373993422836065, 0.01337801106274128, -0.01941921003162861]}],                        {\"template\": {\"data\": {\"bar\": [{\"error_x\": {\"color\": \"#2a3f5f\"}, \"error_y\": {\"color\": \"#2a3f5f\"}, \"marker\": {\"line\": {\"color\": \"#E5ECF6\", \"width\": 0.5}}, \"type\": \"bar\"}], \"barpolar\": [{\"marker\": {\"line\": {\"color\": \"#E5ECF6\", \"width\": 0.5}}, \"type\": \"barpolar\"}], \"carpet\": [{\"aaxis\": {\"endlinecolor\": \"#2a3f5f\", \"gridcolor\": \"white\", \"linecolor\": \"white\", \"minorgridcolor\": \"white\", \"startlinecolor\": \"#2a3f5f\"}, \"baxis\": {\"endlinecolor\": \"#2a3f5f\", \"gridcolor\": \"white\", \"linecolor\": \"white\", \"minorgridcolor\": \"white\", \"startlinecolor\": \"#2a3f5f\"}, \"type\": \"carpet\"}], \"choropleth\": [{\"colorbar\": {\"outlinewidth\": 0, \"ticks\": \"\"}, \"type\": \"choropleth\"}], \"contour\": [{\"colorbar\": {\"outlinewidth\": 0, \"ticks\": \"\"}, \"colorscale\": [[0.0, \"#0d0887\"], [0.1111111111111111, \"#46039f\"], [0.2222222222222222, \"#7201a8\"], [0.3333333333333333, \"#9c179e\"], [0.4444444444444444, \"#bd3786\"], [0.5555555555555556, \"#d8576b\"], [0.6666666666666666, \"#ed7953\"], [0.7777777777777778, \"#fb9f3a\"], [0.8888888888888888, \"#fdca26\"], [1.0, \"#f0f921\"]], \"type\": \"contour\"}], \"contourcarpet\": [{\"colorbar\": {\"outlinewidth\": 0, \"ticks\": \"\"}, \"type\": \"contourcarpet\"}], \"heatmap\": [{\"colorbar\": {\"outlinewidth\": 0, \"ticks\": \"\"}, \"colorscale\": [[0.0, \"#0d0887\"], [0.1111111111111111, \"#46039f\"], [0.2222222222222222, \"#7201a8\"], [0.3333333333333333, \"#9c179e\"], [0.4444444444444444, \"#bd3786\"], [0.5555555555555556, \"#d8576b\"], [0.6666666666666666, \"#ed7953\"], [0.7777777777777778, \"#fb9f3a\"], [0.8888888888888888, \"#fdca26\"], [1.0, \"#f0f921\"]], \"type\": \"heatmap\"}], \"heatmapgl\": [{\"colorbar\": {\"outlinewidth\": 0, \"ticks\": \"\"}, \"colorscale\": [[0.0, \"#0d0887\"], [0.1111111111111111, \"#46039f\"], [0.2222222222222222, \"#7201a8\"], [0.3333333333333333, \"#9c179e\"], [0.4444444444444444, \"#bd3786\"], [0.5555555555555556, \"#d8576b\"], [0.6666666666666666, \"#ed7953\"], [0.7777777777777778, \"#fb9f3a\"], [0.8888888888888888, \"#fdca26\"], [1.0, \"#f0f921\"]], \"type\": \"heatmapgl\"}], \"histogram\": [{\"marker\": {\"colorbar\": {\"outlinewidth\": 0, \"ticks\": \"\"}}, \"type\": \"histogram\"}], \"histogram2d\": [{\"colorbar\": {\"outlinewidth\": 0, \"ticks\": \"\"}, \"colorscale\": [[0.0, \"#0d0887\"], [0.1111111111111111, \"#46039f\"], [0.2222222222222222, \"#7201a8\"], [0.3333333333333333, \"#9c179e\"], [0.4444444444444444, \"#bd3786\"], [0.5555555555555556, \"#d8576b\"], [0.6666666666666666, \"#ed7953\"], [0.7777777777777778, \"#fb9f3a\"], [0.8888888888888888, \"#fdca26\"], [1.0, \"#f0f921\"]], \"type\": \"histogram2d\"}], \"histogram2dcontour\": [{\"colorbar\": {\"outlinewidth\": 0, \"ticks\": \"\"}, \"colorscale\": [[0.0, \"#0d0887\"], [0.1111111111111111, \"#46039f\"], [0.2222222222222222, \"#7201a8\"], [0.3333333333333333, \"#9c179e\"], [0.4444444444444444, \"#bd3786\"], [0.5555555555555556, \"#d8576b\"], [0.6666666666666666, \"#ed7953\"], [0.7777777777777778, \"#fb9f3a\"], [0.8888888888888888, \"#fdca26\"], [1.0, \"#f0f921\"]], \"type\": \"histogram2dcontour\"}], \"mesh3d\": [{\"colorbar\": {\"outlinewidth\": 0, \"ticks\": \"\"}, \"type\": \"mesh3d\"}], \"parcoords\": [{\"line\": {\"colorbar\": {\"outlinewidth\": 0, \"ticks\": \"\"}}, \"type\": \"parcoords\"}], \"pie\": [{\"automargin\": true, \"type\": \"pie\"}], \"scatter\": [{\"marker\": {\"colorbar\": {\"outlinewidth\": 0, \"ticks\": \"\"}}, \"type\": \"scatter\"}], \"scatter3d\": [{\"line\": {\"colorbar\": {\"outlinewidth\": 0, \"ticks\": \"\"}}, \"marker\": {\"colorbar\": {\"outlinewidth\": 0, \"ticks\": \"\"}}, \"type\": \"scatter3d\"}], \"scattercarpet\": [{\"marker\": {\"colorbar\": {\"outlinewidth\": 0, \"ticks\": \"\"}}, \"type\": \"scattercarpet\"}], \"scattergeo\": [{\"marker\": {\"colorbar\": {\"outlinewidth\": 0, \"ticks\": \"\"}}, \"type\": \"scattergeo\"}], \"scattergl\": [{\"marker\": {\"colorbar\": {\"outlinewidth\": 0, \"ticks\": \"\"}}, \"type\": \"scattergl\"}], \"scattermapbox\": [{\"marker\": {\"colorbar\": {\"outlinewidth\": 0, \"ticks\": \"\"}}, \"type\": \"scattermapbox\"}], \"scatterpolar\": [{\"marker\": {\"colorbar\": {\"outlinewidth\": 0, \"ticks\": \"\"}}, \"type\": \"scatterpolar\"}], \"scatterpolargl\": [{\"marker\": {\"colorbar\": {\"outlinewidth\": 0, \"ticks\": \"\"}}, \"type\": \"scatterpolargl\"}], \"scatterternary\": [{\"marker\": {\"colorbar\": {\"outlinewidth\": 0, \"ticks\": \"\"}}, \"type\": \"scatterternary\"}], \"surface\": [{\"colorbar\": {\"outlinewidth\": 0, \"ticks\": \"\"}, \"colorscale\": [[0.0, \"#0d0887\"], [0.1111111111111111, \"#46039f\"], [0.2222222222222222, \"#7201a8\"], [0.3333333333333333, \"#9c179e\"], [0.4444444444444444, \"#bd3786\"], [0.5555555555555556, \"#d8576b\"], [0.6666666666666666, \"#ed7953\"], [0.7777777777777778, \"#fb9f3a\"], [0.8888888888888888, \"#fdca26\"], [1.0, \"#f0f921\"]], \"type\": \"surface\"}], \"table\": [{\"cells\": {\"fill\": {\"color\": \"#EBF0F8\"}, \"line\": {\"color\": \"white\"}}, \"header\": {\"fill\": {\"color\": \"#C8D4E3\"}, \"line\": {\"color\": \"white\"}}, \"type\": \"table\"}]}, \"layout\": {\"annotationdefaults\": {\"arrowcolor\": \"#2a3f5f\", \"arrowhead\": 0, \"arrowwidth\": 1}, \"coloraxis\": {\"colorbar\": {\"outlinewidth\": 0, \"ticks\": \"\"}}, \"colorscale\": {\"diverging\": [[0, \"#8e0152\"], [0.1, \"#c51b7d\"], [0.2, \"#de77ae\"], [0.3, \"#f1b6da\"], [0.4, \"#fde0ef\"], [0.5, \"#f7f7f7\"], [0.6, \"#e6f5d0\"], [0.7, \"#b8e186\"], [0.8, \"#7fbc41\"], [0.9, \"#4d9221\"], [1, \"#276419\"]], \"sequential\": [[0.0, \"#0d0887\"], [0.1111111111111111, \"#46039f\"], [0.2222222222222222, \"#7201a8\"], [0.3333333333333333, \"#9c179e\"], [0.4444444444444444, \"#bd3786\"], [0.5555555555555556, \"#d8576b\"], [0.6666666666666666, \"#ed7953\"], [0.7777777777777778, \"#fb9f3a\"], [0.8888888888888888, \"#fdca26\"], [1.0, \"#f0f921\"]], \"sequentialminus\": [[0.0, \"#0d0887\"], [0.1111111111111111, \"#46039f\"], [0.2222222222222222, \"#7201a8\"], [0.3333333333333333, \"#9c179e\"], [0.4444444444444444, \"#bd3786\"], [0.5555555555555556, \"#d8576b\"], [0.6666666666666666, \"#ed7953\"], [0.7777777777777778, \"#fb9f3a\"], [0.8888888888888888, \"#fdca26\"], [1.0, \"#f0f921\"]]}, \"colorway\": [\"#636efa\", \"#EF553B\", \"#00cc96\", \"#ab63fa\", \"#FFA15A\", \"#19d3f3\", \"#FF6692\", \"#B6E880\", \"#FF97FF\", \"#FECB52\"], \"font\": {\"color\": \"#2a3f5f\"}, \"geo\": {\"bgcolor\": \"white\", \"lakecolor\": \"white\", \"landcolor\": \"#E5ECF6\", \"showlakes\": true, \"showland\": true, \"subunitcolor\": \"white\"}, \"hoverlabel\": {\"align\": \"left\"}, \"hovermode\": \"closest\", \"mapbox\": {\"style\": \"light\"}, \"paper_bgcolor\": \"white\", \"plot_bgcolor\": \"#E5ECF6\", \"polar\": {\"angularaxis\": {\"gridcolor\": \"white\", \"linecolor\": \"white\", \"ticks\": \"\"}, \"bgcolor\": \"#E5ECF6\", \"radialaxis\": {\"gridcolor\": \"white\", \"linecolor\": \"white\", \"ticks\": \"\"}}, \"scene\": {\"xaxis\": {\"backgroundcolor\": \"#E5ECF6\", \"gridcolor\": \"white\", \"gridwidth\": 2, \"linecolor\": \"white\", \"showbackground\": true, \"ticks\": \"\", \"zerolinecolor\": \"white\"}, \"yaxis\": {\"backgroundcolor\": \"#E5ECF6\", \"gridcolor\": \"white\", \"gridwidth\": 2, \"linecolor\": \"white\", \"showbackground\": true, \"ticks\": \"\", \"zerolinecolor\": \"white\"}, \"zaxis\": {\"backgroundcolor\": \"#E5ECF6\", \"gridcolor\": \"white\", \"gridwidth\": 2, \"linecolor\": \"white\", \"showbackground\": true, \"ticks\": \"\", \"zerolinecolor\": \"white\"}}, \"shapedefaults\": {\"line\": {\"color\": \"#2a3f5f\"}}, \"ternary\": {\"aaxis\": {\"gridcolor\": \"white\", \"linecolor\": \"white\", \"ticks\": \"\"}, \"baxis\": {\"gridcolor\": \"white\", \"linecolor\": \"white\", \"ticks\": \"\"}, \"bgcolor\": \"#E5ECF6\", \"caxis\": {\"gridcolor\": \"white\", \"linecolor\": \"white\", \"ticks\": \"\"}}, \"title\": {\"x\": 0.05}, \"xaxis\": {\"automargin\": true, \"gridcolor\": \"white\", \"linecolor\": \"white\", \"ticks\": \"\", \"title\": {\"standoff\": 15}, \"zerolinecolor\": \"white\", \"zerolinewidth\": 2}, \"yaxis\": {\"automargin\": true, \"gridcolor\": \"white\", \"linecolor\": \"white\", \"ticks\": \"\", \"title\": {\"standoff\": 15}, \"zerolinecolor\": \"white\", \"zerolinewidth\": 2}}}, \"title\": {\"text\": \"PCA\"}},                        {\"responsive\": true}                    ).then(function(){\n",
       "                            \n",
       "var gd = document.getElementById('f5090cb5-2f7e-42f6-90fb-c3df6d17ea9c');\n",
       "var x = new MutationObserver(function (mutations, observer) {{\n",
       "        var display = window.getComputedStyle(gd).display;\n",
       "        if (!display || display === 'none') {{\n",
       "            console.log([gd, 'removed!']);\n",
       "            Plotly.purge(gd);\n",
       "            observer.disconnect();\n",
       "        }}\n",
       "}});\n",
       "\n",
       "// Listen for the removal of the full notebook cells\n",
       "var notebookContainer = gd.closest('#notebook-container');\n",
       "if (notebookContainer) {{\n",
       "    x.observe(notebookContainer, {childList: true});\n",
       "}}\n",
       "\n",
       "// Listen for the clearing of the current output cell\n",
       "var outputEl = gd.closest('.output');\n",
       "if (outputEl) {{\n",
       "    x.observe(outputEl, {childList: true});\n",
       "}}\n",
       "\n",
       "                        })                };                });            </script>        </div>"
      ]
     },
     "metadata": {},
     "output_type": "display_data"
    }
   ],
   "source": [
    "trace = go.Scatter(x=result['X'].values,\n",
    "                   y=result['Y'].values,\n",
    "                   text=result['Palabra'].values,\n",
    "                   mode='markers') \n",
    "\n",
    " \n",
    "\n",
    "layout = go.Layout(title=\"PCA\")\n",
    "\n",
    " \n",
    "\n",
    "fig = go.Figure(data=trace, layout=layout)\n",
    "iplot(fig)"
   ]
  },
  {
   "cell_type": "markdown",
   "metadata": {},
   "source": [
    "En la imagen anterior se ven muy dispersas las palabras, que me da a entender que no tienen mucha similitud entre ellas."
   ]
  },
  {
   "cell_type": "code",
   "execution_count": null,
   "metadata": {},
   "outputs": [],
   "source": []
  }
 ],
 "metadata": {
  "kernelspec": {
   "display_name": "Python 3",
   "language": "python",
   "name": "python3"
  },
  "language_info": {
   "codemirror_mode": {
    "name": "ipython",
    "version": 3
   },
   "file_extension": ".py",
   "mimetype": "text/x-python",
   "name": "python",
   "nbconvert_exporter": "python",
   "pygments_lexer": "ipython3",
   "version": "3.7.6"
  }
 },
 "nbformat": 4,
 "nbformat_minor": 2
}
